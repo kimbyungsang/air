{
 "cells": [
  {
   "cell_type": "code",
   "execution_count": 6,
   "metadata": {},
   "outputs": [],
   "source": [
    "import zlib\n",
    "from random import shuffle\n",
    "\n",
    "def ram_shuffle(filename_in, filename_out, header=True):\n",
    "    with open(filename_in, 'rb') as f:\n",
    "        zlines = [zlib.compress(line,9) for line in f]\n",
    "        if header:\n",
    "            first_row = zlines.pop(0)\n",
    "    shuffle(zlines)\n",
    "    \n",
    "    with open(filename_out, 'wb') as f:\n",
    "        if header:\n",
    "            f.write(zlib.decompress(first_row))\n",
    "        for zline in zlines:\n",
    "            f.write(zlib.decompress(zline))"
   ]
  },
  {
   "cell_type": "code",
   "execution_count": 7,
   "metadata": {},
   "outputs": [],
   "source": [
    "import os\n",
    "local_path = os.getcwd()\n",
    "source = 'datasets/covtype.data'\n",
    "ram_shuffle(filename_in = local_path+'/'+source, \\\n",
    "            filename_out = local_path+'/datasets/shuffled_covtype.data', \\\n",
    "            header = False)\n"
   ]
  },
  {
   "cell_type": "code",
   "execution_count": 52,
   "metadata": {},
   "outputs": [
    {
     "name": "stderr",
     "output_type": "stream",
     "text": [
      "/Library/Frameworks/Python.framework/Versions/3.6/lib/python3.6/site-packages/sklearn/linear_model/stochastic_gradient.py:128: FutureWarning: max_iter and tol parameters have been added in <class 'sklearn.linear_model.stochastic_gradient.SGDClassifier'> in 0.19. If both are left unset, they default to max_iter=5 and tol=None. If tol is not None, max_iter defaults to max_iter=1000. From 0.21, default max_iter will be 1000, and default tol will be 1e-3.\n",
      "  \"and default tol will be 1e-3.\" % type(self), FutureWarning)\n"
     ]
    },
    {
     "name": "stdout",
     "output_type": "stream",
     "text": [
      "01:52:13 holdout accuracy: 0.628\n",
      "01:52:13 progressive accuracy: 0.616\n",
      "01:53:16 holdout accuracy: 0.629\n",
      "01:53:16 progressive accuracy: 0.617\n",
      "01:53:16 FINAL holdout accuracy: 0.630\n",
      "01:53:16 FINAL progressive accuracy: 0.617\n"
     ]
    }
   ],
   "source": [
    "import csv, time\n",
    "import numpy as np\n",
    "from sklearn.linear_model import SGDClassifier\n",
    "source = 'datasets/shuffled_covtype.data'\n",
    "SEP=','\n",
    "forest_type = [t+1 for t in range(7)]\n",
    "SGD = SGDClassifier(loss='log', penalty=None, random_state=1, average=True)\n",
    "accuracy = 0\n",
    "holdout_count = 0\n",
    "prog_accuracy = 0\n",
    "prog_count = 0\n",
    "cold_start = 200000\n",
    "k_holdout = 10\n",
    "\n",
    "with open(local_path+'/'+source, 'r') as R:\n",
    "    iterator = csv.reader(R, delimiter=SEP)\n",
    "    for n, row in enumerate(iterator):\n",
    "        if n>250000:\n",
    "            break\n",
    "            \n",
    "        # data processing\n",
    "        response = np.array([int(row[-1])])\n",
    "        features = np.array(list(map(float,row[:-1]))).reshape(1,-1)\n",
    "                            \n",
    "        #machine learning\n",
    "        if n+1 >= cold_start and (n+1-cold_start) % k_holdout==0: # validate after cold_start and validate one of 10\n",
    "            if int(SGD.predict(features)) == response[0]:\n",
    "                accuracy += 1\n",
    "            holdout_count += 1\n",
    "            if (n+1-cold_start) % 25000 == 0 and (n+1) > cold_start:\n",
    "                print ('%s holdout accuracy: %0.3f' % (time.strftime('%X'), accuracy/float(holdout_count)))\n",
    "        else:\n",
    "            # progressive validation\n",
    "            if (n+1) >= cold_start:\n",
    "                if int(SGD.predict(features)) == response[0]:\n",
    "                    prog_accuracy += 1\n",
    "                prog_count += 1\n",
    "                if n % 25000 == 0 and n > cold_start:\n",
    "                    print ('%s progressive accuracy: %0.3f' % (time.strftime('%X'), prog_accuracy/float(prog_count)))\n",
    "            \n",
    "            # learning phase\n",
    "            SGD.partial_fit(features, response, classes=forest_type)\n",
    "    \n",
    "    print ('%s FINAL holdout accuracy: %0.3f' % (time.strftime('%X'), accuracy/((n+1-cold_start)/float(k_holdout))))\n",
    "    print ('%s FINAL progressive accuracy: %0.3f' % (time.strftime('%X'), prog_accuracy/float(prog_count)))"
   ]
  },
  {
   "cell_type": "code",
   "execution_count": 46,
   "metadata": {},
   "outputs": [
    {
     "name": "stdout",
     "output_type": "stream",
     "text": [
      "true\n"
     ]
    }
   ],
   "source": [
    "arr = np.array(list(map(float, [1,2,3,4,5]))).reshape(-1,1)\n",
    "arr.dtype\n",
    "n=10\n",
    "if n > 5:\n",
    "    print('true')"
   ]
  },
  {
   "cell_type": "code",
   "execution_count": null,
   "metadata": {},
   "outputs": [],
   "source": []
  }
 ],
 "metadata": {
  "kernelspec": {
   "display_name": "Python 3",
   "language": "python",
   "name": "python3"
  },
  "language_info": {
   "codemirror_mode": {
    "name": "ipython",
    "version": 3
   },
   "file_extension": ".py",
   "mimetype": "text/x-python",
   "name": "python",
   "nbconvert_exporter": "python",
   "pygments_lexer": "ipython3",
   "version": "3.6.3"
  }
 },
 "nbformat": 4,
 "nbformat_minor": 2
}
