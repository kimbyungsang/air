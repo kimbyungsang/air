{
 "cells": [
  {
   "cell_type": "markdown",
   "metadata": {},
   "source": [
    "## Large Scale Machine Learning with Python, 2016\n",
    "* source code: https://github.com/PacktPublishing/Large-Scale-Machine-Learning-With-Python"
   ]
  },
  {
   "cell_type": "code",
   "execution_count": 4,
   "metadata": {},
   "outputs": [
    {
     "name": "stdout",
     "output_type": "stream",
     "text": [
      "Collecting numpy\n",
      "  Downloading numpy-1.13.3-cp36-cp36m-macosx_10_6_intel.macosx_10_9_intel.macosx_10_9_x86_64.macosx_10_10_intel.macosx_10_10_x86_64.whl (4.5MB)\n",
      "\u001b[K    100% |████████████████████████████████| 4.6MB 80kB/s eta 0:00:01\n",
      "\u001b[?25hInstalling collected packages: numpy\n",
      "Successfully installed numpy-1.13.3\n"
     ]
    }
   ],
   "source": [
    "!pip3 install numpy"
   ]
  },
  {
   "cell_type": "code",
   "execution_count": 5,
   "metadata": {},
   "outputs": [
    {
     "name": "stdout",
     "output_type": "stream",
     "text": [
      "Collecting scipy\n",
      "  Downloading scipy-1.0.0-cp36-cp36m-macosx_10_6_intel.macosx_10_9_intel.macosx_10_9_x86_64.macosx_10_10_intel.macosx_10_10_x86_64.whl (16.7MB)\n",
      "\u001b[K    100% |████████████████████████████████| 16.7MB 36kB/s eta 0:00:011  37% |████████████                    | 6.3MB 2.0MB/s eta 0:00:06    77% |████████████████████████▉       | 13.0MB 4.6MB/s eta 0:00:01\n",
      "\u001b[?25hRequirement already satisfied: numpy>=1.8.2 in /Library/Frameworks/Python.framework/Versions/3.6/lib/python3.6/site-packages (from scipy)\n",
      "Installing collected packages: scipy\n",
      "Successfully installed scipy-1.0.0\n"
     ]
    }
   ],
   "source": [
    "!pip3 install scipy"
   ]
  },
  {
   "cell_type": "code",
   "execution_count": 6,
   "metadata": {},
   "outputs": [
    {
     "name": "stdout",
     "output_type": "stream",
     "text": [
      "Collecting pandas\n",
      "  Downloading pandas-0.21.0-cp36-cp36m-macosx_10_6_intel.macosx_10_9_intel.macosx_10_9_x86_64.macosx_10_10_intel.macosx_10_10_x86_64.whl (15.8MB)\n",
      "\u001b[K    100% |████████████████████████████████| 15.8MB 37kB/s eta 0:00:011   40% |████████████▉                   | 6.4MB 1.2MB/s eta 0:00:08\n",
      "\u001b[?25hCollecting pytz>=2011k (from pandas)\n",
      "  Downloading pytz-2017.3-py2.py3-none-any.whl (511kB)\n",
      "\u001b[K    100% |████████████████████████████████| 512kB 844kB/s ta 0:00:011    58% |██████████████████▋             | 296kB 7.7MB/s eta 0:00:01\n",
      "\u001b[?25hRequirement already satisfied: numpy>=1.9.0 in /Library/Frameworks/Python.framework/Versions/3.6/lib/python3.6/site-packages (from pandas)\n",
      "Requirement already satisfied: python-dateutil>=2 in /Library/Frameworks/Python.framework/Versions/3.6/lib/python3.6/site-packages (from pandas)\n",
      "Requirement already satisfied: six>=1.5 in /Library/Frameworks/Python.framework/Versions/3.6/lib/python3.6/site-packages (from python-dateutil>=2->pandas)\n",
      "Installing collected packages: pytz, pandas\n",
      "Successfully installed pandas-0.21.0 pytz-2017.3\n"
     ]
    }
   ],
   "source": [
    "!pip3 install pandas"
   ]
  },
  {
   "cell_type": "code",
   "execution_count": 7,
   "metadata": {},
   "outputs": [
    {
     "name": "stdout",
     "output_type": "stream",
     "text": [
      "Collecting scikit-learn\n",
      "  Downloading scikit_learn-0.19.1-cp36-cp36m-macosx_10_6_intel.macosx_10_9_intel.macosx_10_9_x86_64.macosx_10_10_intel.macosx_10_10_x86_64.whl (7.6MB)\n",
      "\u001b[K    100% |████████████████████████████████| 7.6MB 79kB/s eta 0:00:011    94% |██████████████████████████████▎ | 7.2MB 10.8MB/s eta 0:00:01\n",
      "\u001b[?25hInstalling collected packages: scikit-learn\n",
      "Successfully installed scikit-learn-0.19.1\n"
     ]
    }
   ],
   "source": [
    "!pip3 install scikit-learn"
   ]
  },
  {
   "cell_type": "code",
   "execution_count": 8,
   "metadata": {},
   "outputs": [
    {
     "name": "stdout",
     "output_type": "stream",
     "text": [
      "Collecting matplotlib\n",
      "  Downloading matplotlib-2.1.0-cp36-cp36m-macosx_10_6_intel.macosx_10_9_intel.macosx_10_9_x86_64.macosx_10_10_intel.macosx_10_10_x86_64.whl (13.2MB)\n",
      "\u001b[K    100% |████████████████████████████████| 13.2MB 47kB/s eta 0:00:011\n",
      "\u001b[?25hRequirement already satisfied: six>=1.10 in /Library/Frameworks/Python.framework/Versions/3.6/lib/python3.6/site-packages (from matplotlib)\n",
      "Requirement already satisfied: pytz in /Library/Frameworks/Python.framework/Versions/3.6/lib/python3.6/site-packages (from matplotlib)\n",
      "Collecting cycler>=0.10 (from matplotlib)\n",
      "  Downloading cycler-0.10.0-py2.py3-none-any.whl\n",
      "Collecting pyparsing!=2.0.4,!=2.1.2,!=2.1.6,>=2.0.1 (from matplotlib)\n",
      "  Downloading pyparsing-2.2.0-py2.py3-none-any.whl (56kB)\n",
      "\u001b[K    100% |████████████████████████████████| 61kB 2.8MB/s ta 0:00:01\n",
      "\u001b[?25hRequirement already satisfied: python-dateutil>=2.0 in /Library/Frameworks/Python.framework/Versions/3.6/lib/python3.6/site-packages (from matplotlib)\n",
      "Requirement already satisfied: numpy>=1.7.1 in /Library/Frameworks/Python.framework/Versions/3.6/lib/python3.6/site-packages (from matplotlib)\n",
      "Installing collected packages: cycler, pyparsing, matplotlib\n",
      "Successfully installed cycler-0.10.0 matplotlib-2.1.0 pyparsing-2.2.0\n"
     ]
    }
   ],
   "source": [
    "!pip3 install matplotlib"
   ]
  },
  {
   "cell_type": "code",
   "execution_count": 9,
   "metadata": {},
   "outputs": [
    {
     "name": "stdout",
     "output_type": "stream",
     "text": [
      "Collecting gensim\n",
      "  Downloading gensim-3.1.0-cp36-cp36m-macosx_10_6_intel.macosx_10_9_intel.macosx_10_9_x86_64.macosx_10_10_intel.macosx_10_10_x86_64.whl (14.4MB)\n",
      "\u001b[K    100% |████████████████████████████████| 14.4MB 38kB/s eta 0:00:0110% |▎                               | 102kB 997kB/s eta 0:00:15    25% |████████▏                       | 3.7MB 5.8MB/s eta 0:00:02    33% |██████████▊                     | 4.8MB 10.1MB/s eta 0:00:01    64% |████████████████████▌           | 9.2MB 8.0MB/s eta 0:00:01\n",
      "\u001b[?25hCollecting smart-open>=1.2.1 (from gensim)\n",
      "  Downloading smart_open-1.5.3.tar.gz\n",
      "Requirement already satisfied: numpy>=1.11.3 in /Library/Frameworks/Python.framework/Versions/3.6/lib/python3.6/site-packages (from gensim)\n",
      "Requirement already satisfied: six>=1.5.0 in /Library/Frameworks/Python.framework/Versions/3.6/lib/python3.6/site-packages (from gensim)\n",
      "Requirement already satisfied: scipy>=0.18.1 in /Library/Frameworks/Python.framework/Versions/3.6/lib/python3.6/site-packages (from gensim)\n",
      "Collecting boto>=2.32 (from smart-open>=1.2.1->gensim)\n",
      "  Downloading boto-2.48.0-py2.py3-none-any.whl (1.4MB)\n",
      "\u001b[K    100% |████████████████████████████████| 1.4MB 416kB/s ta 0:00:011\n",
      "\u001b[?25hCollecting bz2file (from smart-open>=1.2.1->gensim)\n",
      "  Downloading bz2file-0.98.tar.gz\n",
      "Collecting requests (from smart-open>=1.2.1->gensim)\n",
      "  Downloading requests-2.18.4-py2.py3-none-any.whl (88kB)\n",
      "\u001b[K    100% |████████████████████████████████| 92kB 4.0MB/s eta 0:00:01\n",
      "\u001b[?25hCollecting urllib3<1.23,>=1.21.1 (from requests->smart-open>=1.2.1->gensim)\n",
      "  Downloading urllib3-1.22-py2.py3-none-any.whl (132kB)\n",
      "\u001b[K    100% |████████████████████████████████| 133kB 3.1MB/s eta 0:00:01   61% |███████████████████▉            | 81kB 19.9MB/s eta 0:00:01\n",
      "\u001b[?25hCollecting chardet<3.1.0,>=3.0.2 (from requests->smart-open>=1.2.1->gensim)\n",
      "  Downloading chardet-3.0.4-py2.py3-none-any.whl (133kB)\n",
      "\u001b[K    100% |████████████████████████████████| 143kB 3.5MB/s eta 0:00:01\n",
      "\u001b[?25hCollecting certifi>=2017.4.17 (from requests->smart-open>=1.2.1->gensim)\n",
      "  Downloading certifi-2017.11.5-py2.py3-none-any.whl (330kB)\n",
      "\u001b[K    100% |████████████████████████████████| 337kB 1.3MB/s ta 0:00:011\n",
      "\u001b[?25hCollecting idna<2.7,>=2.5 (from requests->smart-open>=1.2.1->gensim)\n",
      "  Downloading idna-2.6-py2.py3-none-any.whl (56kB)\n",
      "\u001b[K    100% |████████████████████████████████| 61kB 4.5MB/s eta 0:00:01\n",
      "\u001b[?25hInstalling collected packages: boto, bz2file, urllib3, chardet, certifi, idna, requests, smart-open, gensim\n",
      "  Running setup.py install for bz2file ... \u001b[?25ldone\n",
      "\u001b[?25h  Running setup.py install for smart-open ... \u001b[?25ldone\n",
      "\u001b[?25hSuccessfully installed boto-2.48.0 bz2file-0.98 certifi-2017.11.5 chardet-3.0.4 gensim-3.1.0 idna-2.6 requests-2.18.4 smart-open-1.5.3 urllib3-1.22\n"
     ]
    }
   ],
   "source": [
    "!pip3 install gensim"
   ]
  },
  {
   "cell_type": "code",
   "execution_count": 10,
   "metadata": {},
   "outputs": [
    {
     "name": "stdout",
     "output_type": "stream",
     "text": [
      "Requirement already up-to-date: requests in /Library/Frameworks/Python.framework/Versions/3.6/lib/python3.6/site-packages\n",
      "Requirement already up-to-date: chardet<3.1.0,>=3.0.2 in /Library/Frameworks/Python.framework/Versions/3.6/lib/python3.6/site-packages (from requests)\n",
      "Requirement already up-to-date: idna<2.7,>=2.5 in /Library/Frameworks/Python.framework/Versions/3.6/lib/python3.6/site-packages (from requests)\n",
      "Requirement already up-to-date: urllib3<1.23,>=1.21.1 in /Library/Frameworks/Python.framework/Versions/3.6/lib/python3.6/site-packages (from requests)\n",
      "Requirement already up-to-date: certifi>=2017.4.17 in /Library/Frameworks/Python.framework/Versions/3.6/lib/python3.6/site-packages (from requests)\n"
     ]
    }
   ],
   "source": [
    "!pip3 install -U requests"
   ]
  },
  {
   "cell_type": "code",
   "execution_count": 11,
   "metadata": {},
   "outputs": [
    {
     "name": "stdout",
     "output_type": "stream",
     "text": [
      "Collecting tabulate\n",
      "  Downloading tabulate-0.8.2.tar.gz (45kB)\n",
      "\u001b[K    100% |████████████████████████████████| 51kB 549kB/s ta 0:00:01\n",
      "\u001b[?25hInstalling collected packages: tabulate\n",
      "  Running setup.py install for tabulate ... \u001b[?25ldone\n",
      "\u001b[?25hSuccessfully installed tabulate-0.8.2\n"
     ]
    }
   ],
   "source": [
    "!pip3 install -U tabulate"
   ]
  },
  {
   "cell_type": "code",
   "execution_count": 13,
   "metadata": {},
   "outputs": [
    {
     "name": "stdout",
     "output_type": "stream",
     "text": [
      "Collecting future\n",
      "  Downloading future-0.16.0.tar.gz (824kB)\n",
      "\u001b[K    100% |████████████████████████████████| 829kB 577kB/s ta 0:00:01\n",
      "\u001b[?25hInstalling collected packages: future\n",
      "  Running setup.py install for future ... \u001b[?25ldone\n",
      "\u001b[?25hSuccessfully installed future-0.16.0\n"
     ]
    }
   ],
   "source": [
    "!pip3 install -U future"
   ]
  },
  {
   "cell_type": "code",
   "execution_count": 14,
   "metadata": {},
   "outputs": [
    {
     "name": "stdout",
     "output_type": "stream",
     "text": [
      "Requirement already up-to-date: six in /Library/Frameworks/Python.framework/Versions/3.6/lib/python3.6/site-packages\r\n"
     ]
    }
   ],
   "source": [
    "!pip3 install -U six"
   ]
  },
  {
   "cell_type": "code",
   "execution_count": 15,
   "metadata": {},
   "outputs": [
    {
     "name": "stdout",
     "output_type": "stream",
     "text": [
      "java version \"1.8.0_77\"\r\n",
      "Java(TM) SE Runtime Environment (build 1.8.0_77-b03)\r\n",
      "Java HotSpot(TM) 64-Bit Server VM (build 25.77-b03, mixed mode)\r\n"
     ]
    }
   ],
   "source": [
    "!java -version"
   ]
  },
  {
   "cell_type": "code",
   "execution_count": 16,
   "metadata": {},
   "outputs": [
    {
     "name": "stdout",
     "output_type": "stream",
     "text": [
      "\u001b[31mCannot uninstall requirement h2o, not installed\u001b[0m\r\n"
     ]
    }
   ],
   "source": [
    "!pip3 uninstall h2o"
   ]
  },
  {
   "cell_type": "code",
   "execution_count": 17,
   "metadata": {},
   "outputs": [
    {
     "name": "stdout",
     "output_type": "stream",
     "text": [
      "Collecting h2o\n",
      "  Downloading h2o-3.10.4.8-py2.py3-none-any.whl (61.3MB)\n",
      "\u001b[K    100% |████████████████████████████████| 61.3MB 10kB/s  eta 0:00:01  4% |█▌                              | 2.8MB 15.3MB/s eta 0:00:04    7% |██▍                             | 4.6MB 9.7MB/s eta 0:00:06    9% |███                             | 5.8MB 20.2MB/s eta 0:00:03    11% |███▊                            | 7.1MB 2.5MB/s eta 0:00:22    16% |█████▎                          | 10.2MB 2.9MB/s eta 0:00:18    39% |████████████▋                   | 24.2MB 16.9MB/s eta 0:00:03    39% |████████████▊                   | 24.5MB 5.7MB/s eta 0:00:07    51% |████████████████▌               | 31.7MB 5.2MB/s eta 0:00:06    52% |████████████████▉               | 32.3MB 22.3MB/s eta 0:00:02    54% |█████████████████▌              | 33.5MB 6.4MB/s eta 0:00:05    60% |███████████████████▍            | 37.2MB 23.9MB/s eta 0:00:02.9MB/s eta 0:00:02    67% |█████████████████████▌          | 41.1MB 21.1MB/s eta 0:00:01    68% |█████████████████████▉          | 41.9MB 7.7MB/s eta 0:00:03    69% |██████████████████████▏         | 42.5MB 18.8MB/s eta 0:00:02    82% |██████████████████████████▌     | 50.7MB 6.9MB/s eta 0:00:02�████████▏ | 57.8MB 16.4MB/s eta 0:00:01\n",
      "\u001b[?25hRequirement already satisfied: future in /Library/Frameworks/Python.framework/Versions/3.6/lib/python3.6/site-packages (from h2o)\n",
      "Requirement already satisfied: tabulate in /Library/Frameworks/Python.framework/Versions/3.6/lib/python3.6/site-packages (from h2o)\n",
      "Requirement already satisfied: requests in /Library/Frameworks/Python.framework/Versions/3.6/lib/python3.6/site-packages (from h2o)\n",
      "Collecting colorama (from h2o)\n",
      "  Downloading colorama-0.3.9-py2.py3-none-any.whl\n",
      "Requirement already satisfied: idna<2.7,>=2.5 in /Library/Frameworks/Python.framework/Versions/3.6/lib/python3.6/site-packages (from requests->h2o)\n",
      "Requirement already satisfied: urllib3<1.23,>=1.21.1 in /Library/Frameworks/Python.framework/Versions/3.6/lib/python3.6/site-packages (from requests->h2o)\n",
      "Requirement already satisfied: certifi>=2017.4.17 in /Library/Frameworks/Python.framework/Versions/3.6/lib/python3.6/site-packages (from requests->h2o)\n",
      "Requirement already satisfied: chardet<3.1.0,>=3.0.2 in /Library/Frameworks/Python.framework/Versions/3.6/lib/python3.6/site-packages (from requests->h2o)\n",
      "Installing collected packages: colorama, h2o\n",
      "Successfully installed colorama-0.3.9 h2o-3.10.4.8\n"
     ]
    }
   ],
   "source": [
    "!pip3 install h2o"
   ]
  },
  {
   "cell_type": "code",
   "execution_count": 18,
   "metadata": {},
   "outputs": [
    {
     "name": "stdout",
     "output_type": "stream",
     "text": [
      "Configured with: --prefix=/Applications/Xcode.app/Contents/Developer/usr --with-gxx-include-dir=/usr/include/c++/4.2.1\n",
      "Apple LLVM version 7.3.0 (clang-703.0.29)\n",
      "Target: x86_64-apple-darwin15.6.0\n",
      "Thread model: posix\n",
      "InstalledDir: /Applications/Xcode.app/Contents/Developer/Toolchains/XcodeDefault.xctoolchain/usr/bin\n"
     ]
    }
   ],
   "source": [
    "!gcc -v"
   ]
  },
  {
   "cell_type": "code",
   "execution_count": 19,
   "metadata": {},
   "outputs": [
    {
     "name": "stdout",
     "output_type": "stream",
     "text": [
      "Collecting xgboost\n",
      "  Downloading xgboost-0.6a2.tar.gz (1.2MB)\n",
      "\u001b[K    100% |████████████████████████████████| 1.2MB 426kB/s ta 0:00:01\n",
      "\u001b[?25h    Complete output from command python setup.py egg_info:\n",
      "    rm -f -rf build build_plugin lib bin *~ */*~ */*/*~ */*/*/*~ */*.o */*/*.o */*/*/*.o xgboost\n",
      "    clang-omp++ -std=c++0x -Wall -O3 -msse2  -Wno-unknown-pragmas -funroll-loops -Iinclude   -Idmlc-core/include -Irabit/include -fPIC -fopenmp -MM -MT build/learner.o src/learner.cc >build/learner.d\n",
      "    /bin/sh: clang-omp++: command not found\n",
      "    make: *** [build/learner.o] Error 127\n",
      "    make: *** Waiting for unfinished jobs....\n",
      "    clang-omp++ -std=c++0x -Wall -O3 -msse2  -Wno-unknown-pragmas -funroll-loops -Iinclude   -Idmlc-core/include -Irabit/include -fPIC -fopenmp -MM -MT build/logging.o src/logging.cc >build/logging.d\n",
      "    /bin/sh: clang-omp++: command not found\n",
      "    make: *** [build/logging.o] Error 127\n",
      "    -----------------------------\n",
      "    Building multi-thread xgboost failed\n",
      "    Start to build single-thread xgboost\n",
      "    rm -f -rf build build_plugin lib bin *~ */*~ */*/*~ */*/*/*~ */*.o */*/*.o */*/*/*.o xgboost\n",
      "    clang-omp++ -std=c++0x -Wall -O3 -msse2  -Wno-unknown-pragmas -funroll-loops -Iinclude   -Idmlc-core/include -Irabit/include -fPIC -fopenmp -MM -MT build/learner.o src/learner.cc >build/learner.d\n",
      "    /bin/sh: clang-omp++: command not found\n",
      "    make: *** [build/learner.o] Error 127\n",
      "    make: *** Waiting for unfinished jobs....\n",
      "    clang-omp++ -std=c++0x -Wall -O3 -msse2  -Wno-unknown-pragmas -funroll-loops -Iinclude   -Idmlc-core/include -Irabit/include -fPIC -fopenmp -MM -MT build/logging.o src/logging.cc >build/logging.d\n",
      "    /bin/sh: clang-omp++: command not found\n",
      "    make: *** [build/logging.o] Error 127\n",
      "    Successfully build single-thread xgboost\n",
      "    If you want multi-threaded version\n",
      "    See additional instructions in doc/build.md\n",
      "    Traceback (most recent call last):\n",
      "      File \"<string>\", line 1, in <module>\n",
      "      File \"/private/var/folders/xz/jhfpyxt16fd4f_5_pwm1nzcm0000gn/T/pip-build-nvzqxfrv/xgboost/setup.py\", line 29, in <module>\n",
      "        LIB_PATH = libpath['find_lib_path']()\n",
      "      File \"/private/var/folders/xz/jhfpyxt16fd4f_5_pwm1nzcm0000gn/T/pip-build-nvzqxfrv/xgboost/xgboost/libpath.py\", line 45, in find_lib_path\n",
      "        'List of candidates:\\n' + ('\\n'.join(dll_path)))\n",
      "    XGBoostLibraryNotFound: Cannot find XGBoost Libarary in the candicate path, did you install compilers and run build.sh in root path?\n",
      "    List of candidates:\n",
      "    /private/var/folders/xz/jhfpyxt16fd4f_5_pwm1nzcm0000gn/T/pip-build-nvzqxfrv/xgboost/xgboost/libxgboost.so\n",
      "    /private/var/folders/xz/jhfpyxt16fd4f_5_pwm1nzcm0000gn/T/pip-build-nvzqxfrv/xgboost/xgboost/../../lib/libxgboost.so\n",
      "    /private/var/folders/xz/jhfpyxt16fd4f_5_pwm1nzcm0000gn/T/pip-build-nvzqxfrv/xgboost/xgboost/./lib/libxgboost.so\n",
      "    \n",
      "    ----------------------------------------\n",
      "\u001b[31mCommand \"python setup.py egg_info\" failed with error code 1 in /private/var/folders/xz/jhfpyxt16fd4f_5_pwm1nzcm0000gn/T/pip-build-nvzqxfrv/xgboost/\u001b[0m\n"
     ]
    }
   ],
   "source": [
    "!pip3 install xgboost"
   ]
  },
  {
   "cell_type": "code",
   "execution_count": 20,
   "metadata": {},
   "outputs": [
    {
     "name": "stdout",
     "output_type": "stream",
     "text": [
      "Collecting Theano\n",
      "  Downloading Theano-1.0.0.tar.gz (2.9MB)\n",
      "\u001b[K    100% |████████████████████████████████| 2.9MB 216kB/s eta 0:00:01\n",
      "\u001b[?25hRequirement already satisfied: numpy>=1.9.1 in /Library/Frameworks/Python.framework/Versions/3.6/lib/python3.6/site-packages (from Theano)\n",
      "Requirement already satisfied: scipy>=0.14 in /Library/Frameworks/Python.framework/Versions/3.6/lib/python3.6/site-packages (from Theano)\n",
      "Requirement already satisfied: six>=1.9.0 in /Library/Frameworks/Python.framework/Versions/3.6/lib/python3.6/site-packages (from Theano)\n",
      "Installing collected packages: Theano\n",
      "  Running setup.py install for Theano ... \u001b[?25ldone\n",
      "\u001b[?25hSuccessfully installed Theano-1.0.0\n"
     ]
    }
   ],
   "source": [
    "!pip3 install Theano"
   ]
  },
  {
   "cell_type": "code",
   "execution_count": 21,
   "metadata": {},
   "outputs": [
    {
     "name": "stdout",
     "output_type": "stream",
     "text": [
      "Collecting nose\n",
      "  Downloading nose-1.3.7-py3-none-any.whl (154kB)\n",
      "\u001b[K    100% |████████████████████████████████| 163kB 1.3MB/s ta 0:00:01\n",
      "\u001b[?25hInstalling collected packages: nose\n",
      "Successfully installed nose-1.3.7\n",
      "Collecting nose-parameterized\n",
      "  Downloading nose_parameterized-0.6.0-py2.py3-none-any.whl\n",
      "Installing collected packages: nose-parameterized\n",
      "Successfully installed nose-parameterized-0.6.0\n"
     ]
    }
   ],
   "source": [
    "!pip3 install nose\n",
    "!pip3 install nose-parameterized"
   ]
  },
  {
   "cell_type": "code",
   "execution_count": 26,
   "metadata": {},
   "outputs": [
    {
     "ename": "SyntaxError",
     "evalue": "invalid syntax (<ipython-input-26-cd30973f16b6>, line 1)",
     "output_type": "error",
     "traceback": [
      "\u001b[0;36m  File \u001b[0;32m\"<ipython-input-26-cd30973f16b6>\"\u001b[0;36m, line \u001b[0;32m1\u001b[0m\n\u001b[0;31m    nosetests Theano\u001b[0m\n\u001b[0m                   ^\u001b[0m\n\u001b[0;31mSyntaxError\u001b[0m\u001b[0;31m:\u001b[0m invalid syntax\n"
     ]
    }
   ],
   "source": [
    "nosetests Theano"
   ]
  },
  {
   "cell_type": "code",
   "execution_count": 28,
   "metadata": {},
   "outputs": [
    {
     "name": "stdout",
     "output_type": "stream",
     "text": [
      "Requirement already satisfied: requests in /Library/Frameworks/Python.framework/Versions/3.6/lib/python3.6/site-packages\n",
      "Requirement already satisfied: chardet<3.1.0,>=3.0.2 in /Library/Frameworks/Python.framework/Versions/3.6/lib/python3.6/site-packages (from requests)\n",
      "Requirement already satisfied: urllib3<1.23,>=1.21.1 in /Library/Frameworks/Python.framework/Versions/3.6/lib/python3.6/site-packages (from requests)\n",
      "Requirement already satisfied: certifi>=2017.4.17 in /Library/Frameworks/Python.framework/Versions/3.6/lib/python3.6/site-packages (from requests)\n",
      "Requirement already satisfied: idna<2.7,>=2.5 in /Library/Frameworks/Python.framework/Versions/3.6/lib/python3.6/site-packages (from requests)\n"
     ]
    }
   ],
   "source": [
    "!pip3 install requests"
   ]
  },
  {
   "cell_type": "code",
   "execution_count": 30,
   "metadata": {},
   "outputs": [
    {
     "name": "stdout",
     "output_type": "stream",
     "text": [
      "Collecting neurolab\n",
      "  Downloading neurolab-0.3.5.tar.gz (645kB)\n",
      "\u001b[K    100% |████████████████████████████████| 655kB 691kB/s ta 0:00:01\n",
      "\u001b[?25hInstalling collected packages: neurolab\n",
      "  Running setup.py install for neurolab ... \u001b[?25ldone\n",
      "\u001b[?25hSuccessfully installed neurolab-0.3.5\n"
     ]
    }
   ],
   "source": [
    "!pip3 install neurolab"
   ]
  },
  {
   "cell_type": "code",
   "execution_count": 1,
   "metadata": {},
   "outputs": [
    {
     "name": "stdout",
     "output_type": "stream",
     "text": [
      "Collecting xlrd\n",
      "  Downloading xlrd-1.1.0-py2.py3-none-any.whl (108kB)\n",
      "\u001b[K    100% |████████████████████████████████| 112kB 467kB/s ta 0:00:01\n",
      "\u001b[?25hInstalling collected packages: xlrd\n",
      "Successfully installed xlrd-1.1.0\n"
     ]
    }
   ],
   "source": [
    "!pip3 install xlrd"
   ]
  },
  {
   "cell_type": "code",
   "execution_count": 2,
   "metadata": {},
   "outputs": [
    {
     "name": "stdout",
     "output_type": "stream",
     "text": [
      "Collecting seaborn\n",
      "  Downloading seaborn-0.8.1.tar.gz (178kB)\n",
      "\u001b[K    100% |████████████████████████████████| 184kB 208kB/s ta 0:00:01\n",
      "\u001b[?25hInstalling collected packages: seaborn\n",
      "  Running setup.py install for seaborn ... \u001b[?25ldone\n",
      "\u001b[?25hSuccessfully installed seaborn-0.8.1\n"
     ]
    }
   ],
   "source": [
    "!pip3 install seaborn"
   ]
  },
  {
   "cell_type": "code",
   "execution_count": null,
   "metadata": {},
   "outputs": [],
   "source": []
  }
 ],
 "metadata": {
  "kernelspec": {
   "display_name": "Python 3",
   "language": "python",
   "name": "python3"
  },
  "language_info": {
   "codemirror_mode": {
    "name": "ipython",
    "version": 3
   },
   "file_extension": ".py",
   "mimetype": "text/x-python",
   "name": "python",
   "nbconvert_exporter": "python",
   "pygments_lexer": "ipython3",
   "version": "3.6.3"
  }
 },
 "nbformat": 4,
 "nbformat_minor": 2
}
