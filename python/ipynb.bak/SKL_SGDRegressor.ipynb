{
 "cells": [
  {
   "cell_type": "code",
   "execution_count": 26,
   "metadata": {},
   "outputs": [
    {
     "name": "stderr",
     "output_type": "stream",
     "text": [
      "/Library/Frameworks/Python.framework/Versions/3.6/lib/python3.6/site-packages/sklearn/feature_extraction/hashing.py:94: DeprecationWarning: the option non_negative=True has been deprecated in 0.19 and will be removed in version 0.21.\n",
      "  \" in version 0.21.\", DeprecationWarning)\n",
      "/Library/Frameworks/Python.framework/Versions/3.6/lib/python3.6/site-packages/sklearn/linear_model/stochastic_gradient.py:128: FutureWarning: max_iter and tol parameters have been added in <class 'sklearn.linear_model.stochastic_gradient.SGDRegressor'> in 0.19. If both are left unset, they default to max_iter=5 and tol=None. If tol is not None, max_iter defaults to max_iter=1000. From 0.21, default max_iter will be 1000, and default tol will be 1e-3.\n",
      "  \"and default tol will be 1e-3.\" % type(self), FutureWarning)\n"
     ]
    },
    {
     "name": "stdout",
     "output_type": "stream",
     "text": [
      "10:45:19 holdout RMSE: 13.401\n",
      "holdout RMSLE: 1.400\n",
      "10:45:19 holdout RMSE: 12.861\n",
      "holdout RMSLE: 1.406\n",
      "10:45:19 holdout RMSE: 12.869\n",
      "holdout RMSLE: 1.398\n",
      "10:45:19 holdout RMSE: 12.829\n",
      "holdout RMSLE: 1.388\n",
      "10:45:19 holdout RMSE: 12.542\n",
      "holdout RMSLE: 1.412\n",
      "10:45:19 FINAL holdout RMSE: 534.141\n",
      "10:45:19 FINAL holdout RMSLE: 1.414\n"
     ]
    }
   ],
   "source": [
    "import csv, time, os\n",
    "import numpy as np\n",
    "from sklearn.linear_model import SGDRegressor\n",
    "from sklearn.feature_extraction import FeatureHasher\n",
    "source = 'datasets/bikesharing/hour.csv'\n",
    "local_path = os.getcwd()\n",
    "SEP=','\n",
    "\n",
    "def apply_log(x): return np.log(float(x) + 1)\n",
    "def apply_exp(x): return np.exp(float(x) + 1)\n",
    "SGD = SGDRegressor(loss='squared_loss', penalty=None, random_state=1, average=True)\n",
    "h = FeatureHasher(non_negative=True)\n",
    "val_rmse = 0\n",
    "val_rmsle = 0\n",
    "predictions_start = 16000\n",
    "\n",
    "with open(local_path+'/'+source, 'r') as R:\n",
    "    iterator = csv.DictReader(R, delimiter=SEP)\n",
    "    for n, row in enumerate(iterator):\n",
    " #       if n > 0:\n",
    " #           break\n",
    "        \n",
    "        \n",
    "        #data processing\n",
    "        target=np.array([apply_log(row['cnt'])])\n",
    "        features = {k+'_'+v:1 for k,v in row.items() \\\n",
    "                   for k in ['holiday', 'hr', 'mnth', 'season', 'weathersit', 'weekday', 'workingday', 'yr']}\n",
    "        numeric_features = {k:float(v) for k,v in row.items() \\\n",
    "                            if k in ['hum', 'temp', 'atemp', 'windspeed']}\n",
    "        \n",
    "        #machine learning\n",
    "        if (n+1) >= predictions_start:\n",
    "            #holdout after n phase\n",
    "            predicted = SGD.predict(hashed_features)\n",
    "            val_rmse += (apply_exp(predicted) - apply_exp(target))**2\n",
    "            val_rmsle += (predicted - target)**2\n",
    "            if(n-predictions_start+1) % 250 == 0 \\\n",
    "            and (n+1) > predictions_start:\n",
    "                print ('%s holdout RMSE: %0.3f' % (time.strftime('%X'), (val_rmse/float(n-predictions_start+1))**0.2))\n",
    "                print ('holdout RMSLE: %0.3f' % ((val_rmsle/float(n-predictions_start+1))**0.5))\n",
    "        else:\n",
    "            #learning phase\n",
    "            SGD.partial_fit(hashed_features, target)\n",
    "    \n",
    "print ('%s FINAL holdout RMSE: %0.3f' % (time.strftime('%X'), (val_rmse/float(n-predictions_start+1))**0.5))\n",
    "print ('%s FINAL holdout RMSLE: %0.3f' % (time.strftime('%X'), (val_rmsle/float(n-predictions_start+1))**0.5))\n",
    "        "
   ]
  },
  {
   "cell_type": "code",
   "execution_count": 14,
   "metadata": {},
   "outputs": [
    {
     "name": "stdout",
     "output_type": "stream",
     "text": [
      "{'holiday_2': 1, 'hr_2': 1, 'mnth_2': 1, 'season_2': 1, 'weathersit_2': 1, 'weekday_2': 1, 'workingday_2': 1, 'yr_2': 1, 'holiday_2011-01-01': 1, 'hr_2011-01-01': 1, 'mnth_2011-01-01': 1, 'season_2011-01-01': 1, 'weathersit_2011-01-01': 1, 'weekday_2011-01-01': 1, 'workingday_2011-01-01': 1, 'yr_2011-01-01': 1, 'holiday_1': 1, 'hr_1': 1, 'mnth_1': 1, 'season_1': 1, 'weathersit_1': 1, 'weekday_1': 1, 'workingday_1': 1, 'yr_1': 1, 'holiday_0': 1, 'hr_0': 1, 'mnth_0': 1, 'season_0': 1, 'weathersit_0': 1, 'weekday_0': 1, 'workingday_0': 1, 'yr_0': 1, 'holiday_6': 1, 'hr_6': 1, 'mnth_6': 1, 'season_6': 1, 'weathersit_6': 1, 'weekday_6': 1, 'workingday_6': 1, 'yr_6': 1, 'holiday_0.22': 1, 'hr_0.22': 1, 'mnth_0.22': 1, 'season_0.22': 1, 'weathersit_0.22': 1, 'weekday_0.22': 1, 'workingday_0.22': 1, 'yr_0.22': 1, 'holiday_0.2727': 1, 'hr_0.2727': 1, 'mnth_0.2727': 1, 'season_0.2727': 1, 'weathersit_0.2727': 1, 'weekday_0.2727': 1, 'workingday_0.2727': 1, 'yr_0.2727': 1, 'holiday_0.8': 1, 'hr_0.8': 1, 'mnth_0.8': 1, 'season_0.8': 1, 'weathersit_0.8': 1, 'weekday_0.8': 1, 'workingday_0.8': 1, 'yr_0.8': 1, 'holiday_8': 1, 'hr_8': 1, 'mnth_8': 1, 'season_8': 1, 'weathersit_8': 1, 'weekday_8': 1, 'workingday_8': 1, 'yr_8': 1, 'holiday_32': 1, 'hr_32': 1, 'mnth_32': 1, 'season_32': 1, 'weathersit_32': 1, 'weekday_32': 1, 'workingday_32': 1, 'yr_32': 1, 'holiday_40': 1, 'hr_40': 1, 'mnth_40': 1, 'season_40': 1, 'weathersit_40': 1, 'weekday_40': 1, 'workingday_40': 1, 'yr_40': 1, 'temp': 0.22, 'atemp': 0.2727, 'hum': 0.8, 'windspeed': 0.0}\n"
     ]
    }
   ],
   "source": [
    "        print(features)\n",
    "#        print(numeric_features)"
   ]
  },
  {
   "cell_type": "code",
   "execution_count": null,
   "metadata": {},
   "outputs": [],
   "source": []
  }
 ],
 "metadata": {
  "kernelspec": {
   "display_name": "Python 3",
   "language": "python",
   "name": "python3"
  },
  "language_info": {
   "codemirror_mode": {
    "name": "ipython",
    "version": 3
   },
   "file_extension": ".py",
   "mimetype": "text/x-python",
   "name": "python",
   "nbconvert_exporter": "python",
   "pygments_lexer": "ipython3",
   "version": "3.6.3"
  }
 },
 "nbformat": 4,
 "nbformat_minor": 2
}
