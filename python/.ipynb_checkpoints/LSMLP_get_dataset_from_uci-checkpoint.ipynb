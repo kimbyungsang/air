{
 "cells": [
  {
   "cell_type": "code",
   "execution_count": 15,
   "metadata": {},
   "outputs": [],
   "source": [
    "import urllib.request\n",
    "import requests, io, os\n",
    "import numpy as np\n",
    "import tarfile, zipfile, gzip"
   ]
  },
  {
   "cell_type": "code",
   "execution_count": 16,
   "metadata": {},
   "outputs": [],
   "source": [
    "def unzip_from_UCI(UCI_url, dest=''):\n",
    "    \"\"\" download and extract the zipped UCI datasets\"\"\"\n",
    "    response = requests.get(UCI_url)\n",
    "    compressed_file = io.BytesIO(response.contenst)\n",
    "    z = zipfile.ZipFile(compressed_file)\n",
    "    print('Extracting in %s' % os.getcwd() + '\\\\'+ dest)\n",
    "    for name in z.namelist():\n",
    "        if '.csv' in name:\n",
    "            print('\\tunzipping %s' %name)\n",
    "            z.extract(name, path=os.getcwd()+'\\\\'+ dest)"
   ]
  },
  {
   "cell_type": "code",
   "execution_count": 17,
   "metadata": {},
   "outputs": [],
   "source": [
    "def gzip_from_UCI(UCI_url, dest=''):\n",
    "    \"\"\" download and extract the gziped UCI datasets\"\"\"\n",
    "    response = urllib.request.urlopen(UCI_url)\n",
    "    compressed_file = io.ByteIO(response.read())\n",
    "    decompressed_file = gzip.GzipFile(fileobj = compressed_file)\n",
    "    filename = UCI_url.split('/')[-1][:-3]\n",
    "    with open(os.getcwd()+'\\\\'+filename, 'wb') as outfile:\n",
    "        outfile.write(decompressed_file.read())\n",
    "        print('File %s decompress' % filename)"
   ]
  },
  {
   "cell_type": "code",
   "execution_count": 20,
   "metadata": {},
   "outputs": [],
   "source": [
    "def tarzip_from_UCI(UCI_url, dest='.'):\n",
    "    \"\"\" download and extract tar.gz UCI datasets\"\"\"\n",
    "    response = urllib.request.urlopen(UCI_url)\n",
    "    compressed_file = io.StringIO.StringIO(response.read())\n",
    "    tar = tarfile.open(mode=\"r:gz\", fileobj = compressed_file)\n",
    "    tar.extractall(path=dest)\n",
    "    datasets = tar.getnames()\n",
    "    for dataset in datasets:\n",
    "        size = os.path.getsize(dest+'\\\\'+datasets)\n",
    "        print('File %s is %i bytes' % (dataset, size))\n",
    "    tar.close()\n"
   ]
  },
  {
   "cell_type": "code",
   "execution_count": 21,
   "metadata": {},
   "outputs": [],
   "source": [
    "def load_matrix(UCI_url):\n",
    "    \"\"\" download and extract as matrix\"\"\"\n",
    "    return np.loadtxt(urllib.request.urlopen(UCI_url))"
   ]
  },
  {
   "cell_type": "code",
   "execution_count": null,
   "metadata": {},
   "outputs": [],
   "source": []
  }
 ],
 "metadata": {
  "kernelspec": {
   "display_name": "Python 3",
   "language": "python",
   "name": "python3"
  },
  "language_info": {
   "codemirror_mode": {
    "name": "ipython",
    "version": 3
   },
   "file_extension": ".py",
   "mimetype": "text/x-python",
   "name": "python",
   "nbconvert_exporter": "python",
   "pygments_lexer": "ipython3",
   "version": "3.6.3"
  }
 },
 "nbformat": 4,
 "nbformat_minor": 2
}
