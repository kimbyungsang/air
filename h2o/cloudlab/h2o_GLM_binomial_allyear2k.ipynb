{
 "cells": [
  {
   "cell_type": "markdown",
   "metadata": {},
   "source": [
    "## H2O Algorithms - Generalized Linear Model (GLM) Example\n",
    "References\n",
    "* http://docs.h2o.ai/h2o/latest-stable/h2o-docs/data-science/glm.html#generalized-linear-model-glm\n",
    "* http://docs.h2o.ai/h2o/latest-stable/h2o-py/docs/modeling.html#h2ogeneralizedlinearestimator\n",
    "* https://github.com/h2oai/h2o-2/wiki/Hacking-Airline-DataSet-with-H2O "
   ]
  },
  {
   "cell_type": "code",
   "execution_count": 1,
   "metadata": {},
   "outputs": [],
   "source": [
    "import h2o\n",
    "import numpy as np"
   ]
  },
  {
   "cell_type": "code",
   "execution_count": 2,
   "metadata": {},
   "outputs": [
    {
     "name": "stdout",
     "output_type": "stream",
     "text": [
      "Checking whether there is an H2O instance running at http://localhost:54321..... not found.\n",
      "Attempting to start a local H2O server...\n",
      "  Java Version: openjdk version \"1.8.0_151\"; OpenJDK Runtime Environment (build 1.8.0_151-8u151-b12-0ubuntu0.16.04.2-b12); OpenJDK 64-Bit Server VM (build 25.151-b12, mixed mode)\n",
      "  Starting server from /opt/conda/lib/python3.6/site-packages/h2o/backend/bin/h2o.jar\n",
      "  Ice root: /tmp/tmplpppforf\n",
      "  JVM stdout: /tmp/tmplpppforf/h2o_unknownUser_started_from_python.out\n",
      "  JVM stderr: /tmp/tmplpppforf/h2o_unknownUser_started_from_python.err\n",
      "  Server is running at http://127.0.0.1:54321\n",
      "Connecting to H2O server at http://127.0.0.1:54321... successful.\n",
      "Warning: Your H2O cluster version is too old (4 months and 19 days)! Please download and install the latest version from http://h2o.ai/download/\n"
     ]
    },
    {
     "data": {
      "text/html": [
       "<div style=\"overflow:auto\"><table style=\"width:50%\"><tr><td>H2O cluster uptime:</td>\n",
       "<td>03 secs</td></tr>\n",
       "<tr><td>H2O cluster version:</td>\n",
       "<td>3.13.0.369</td></tr>\n",
       "<tr><td>H2O cluster version age:</td>\n",
       "<td>4 months and 19 days !!!</td></tr>\n",
       "<tr><td>H2O cluster name:</td>\n",
       "<td>H2O_from_python_unknownUser_g9xmny</td></tr>\n",
       "<tr><td>H2O cluster total nodes:</td>\n",
       "<td>1</td></tr>\n",
       "<tr><td>H2O cluster free memory:</td>\n",
       "<td>6.948 Gb</td></tr>\n",
       "<tr><td>H2O cluster total cores:</td>\n",
       "<td>8</td></tr>\n",
       "<tr><td>H2O cluster allowed cores:</td>\n",
       "<td>8</td></tr>\n",
       "<tr><td>H2O cluster status:</td>\n",
       "<td>accepting new members, healthy</td></tr>\n",
       "<tr><td>H2O connection url:</td>\n",
       "<td>http://127.0.0.1:54321</td></tr>\n",
       "<tr><td>H2O connection proxy:</td>\n",
       "<td>None</td></tr>\n",
       "<tr><td>H2O internal security:</td>\n",
       "<td>False</td></tr>\n",
       "<tr><td>H2O API Extensions:</td>\n",
       "<td>XGBoost, Algos, AutoML, Core V3, Core V4</td></tr>\n",
       "<tr><td>Python version:</td>\n",
       "<td>3.6.3 final</td></tr></table></div>"
      ],
      "text/plain": [
       "--------------------------  ----------------------------------------\n",
       "H2O cluster uptime:         03 secs\n",
       "H2O cluster version:        3.13.0.369\n",
       "H2O cluster version age:    4 months and 19 days !!!\n",
       "H2O cluster name:           H2O_from_python_unknownUser_g9xmny\n",
       "H2O cluster total nodes:    1\n",
       "H2O cluster free memory:    6.948 Gb\n",
       "H2O cluster total cores:    8\n",
       "H2O cluster allowed cores:  8\n",
       "H2O cluster status:         accepting new members, healthy\n",
       "H2O connection url:         http://127.0.0.1:54321\n",
       "H2O connection proxy:\n",
       "H2O internal security:      False\n",
       "H2O API Extensions:         XGBoost, Algos, AutoML, Core V3, Core V4\n",
       "Python version:             3.6.3 final\n",
       "--------------------------  ----------------------------------------"
      ]
     },
     "metadata": {},
     "output_type": "display_data"
    }
   ],
   "source": [
    "h2o.init()"
   ]
  },
  {
   "cell_type": "code",
   "execution_count": 3,
   "metadata": {},
   "outputs": [
    {
     "name": "stdout",
     "output_type": "stream",
     "text": [
      "Parse progress: |█████████████████████████████████████████████████████████| 100%\n"
     ]
    }
   ],
   "source": [
    "airline_data = \"datasets/allyears2k.csv\"\n",
    "airline_df = h2o.import_file(airline_data)"
   ]
  },
  {
   "cell_type": "code",
   "execution_count": 6,
   "metadata": {},
   "outputs": [],
   "source": [
    "train_075, valid_025 = airline_df.split_frame(ratios=[0.75], destination_frames=['train_075', 'valid_025'], seed=12345)"
   ]
  },
  {
   "cell_type": "code",
   "execution_count": 9,
   "metadata": {},
   "outputs": [
    {
     "name": "stdout",
     "output_type": "stream",
     "text": [
      "Rows:32944\n",
      "Cols:31\n",
      "\n",
      "\n"
     ]
    },
    {
     "data": {
      "text/html": [
       "<table>\n",
       "<thead>\n",
       "<tr><th>       </th><th>Year              </th><th>Month             </th><th>DayofMonth        </th><th>DayOfWeek         </th><th>DepTime           </th><th>CRSDepTime        </th><th>ArrTime          </th><th>CRSArrTime        </th><th>UniqueCarrier  </th><th>FlightNum        </th><th>TailNum  </th><th>ActualElapsedTime  </th><th>CRSElapsedTime    </th><th>AirTime          </th><th>ArrDelay         </th><th>DepDelay          </th><th>Origin  </th><th>Dest  </th><th>Distance         </th><th>TaxiIn           </th><th>TaxiOut           </th><th>Cancelled           </th><th>CancellationCode  </th><th>Diverted             </th><th>CarrierDelay      </th><th>WeatherDelay       </th><th>NASDelay          </th><th>SecurityDelay       </th><th>LateAircraftDelay  </th><th>IsArrDelayed  </th><th>IsDepDelayed  </th></tr>\n",
       "</thead>\n",
       "<tbody>\n",
       "<tr><td>type   </td><td>int               </td><td>int               </td><td>int               </td><td>int               </td><td>int               </td><td>int               </td><td>int              </td><td>int               </td><td>enum           </td><td>int              </td><td>enum     </td><td>int                </td><td>int               </td><td>int              </td><td>int              </td><td>int               </td><td>enum    </td><td>enum  </td><td>int              </td><td>int              </td><td>int               </td><td>int                 </td><td>enum              </td><td>int                  </td><td>int               </td><td>int                </td><td>int               </td><td>int                 </td><td>int                </td><td>enum          </td><td>enum          </td></tr>\n",
       "<tr><td>mins   </td><td>1987.0            </td><td>1.0               </td><td>1.0               </td><td>1.0               </td><td>1.0               </td><td>0.0               </td><td>1.0              </td><td>0.0               </td><td>               </td><td>1.0              </td><td>         </td><td>16.0               </td><td>17.0              </td><td>14.0             </td><td>-63.0            </td><td>-16.0             </td><td>        </td><td>      </td><td>11.0             </td><td>0.0              </td><td>0.0               </td><td>0.0                 </td><td>                  </td><td>0.0                  </td><td>0.0               </td><td>0.0                </td><td>0.0               </td><td>0.0                 </td><td>0.0                </td><td>              </td><td>              </td></tr>\n",
       "<tr><td>mean   </td><td>1997.4753217581354</td><td>1.4076007770762509</td><td>14.610399465760077</td><td>3.820240407965032 </td><td>1348.0649346608589</td><td>1315.543133802817 </td><td>1507.185343482873</td><td>1487.7556155900927</td><td>               </td><td>817.0415250121418</td><td>         </td><td>125.0900355649841  </td><td>125.25271755632478</td><td>114.5341042728342</td><td>9.323890934048793</td><td>9.96664592408214  </td><td>        </td><td>      </td><td>732.1626211380137</td><td>5.404549808429119</td><td>14.175318456086583</td><td>0.024405050995628945</td><td>                  </td><td>0.0026104905293831957</td><td>3.97542334781957  </td><td>0.25520755282481644</td><td>4.929716769069379 </td><td>0.017233628053349315</td><td>7.330436085718564  </td><td>              </td><td>              </td></tr>\n",
       "<tr><td>maxs   </td><td>2008.0            </td><td>10.0              </td><td>31.0              </td><td>7.0               </td><td>2400.0            </td><td>2359.0            </td><td>2400.0           </td><td>2359.0            </td><td>               </td><td>3949.0           </td><td>         </td><td>475.0              </td><td>437.0             </td><td>402.0            </td><td>470.0            </td><td>473.0             </td><td>        </td><td>      </td><td>3365.0           </td><td>88.0             </td><td>254.0             </td><td>1.0                 </td><td>                  </td><td>1.0                  </td><td>285.0             </td><td>135.0              </td><td>307.0             </td><td>12.0                </td><td>343.0              </td><td>              </td><td>              </td></tr>\n",
       "<tr><td>sigma  </td><td>6.344585860507347 </td><td>1.871463308001557 </td><td>9.159599498543214 </td><td>1.9031546184225476</td><td>465.9472738966881 </td><td>476.95476744330216</td><td>485.4247016596124</td><td>493.71192695771407</td><td>               </td><td>777.9684082023755</td><td>         </td><td>74.40305017730039  </td><td>73.74507897065912 </td><td>70.00535449262698</td><td>29.59850691383757</td><td>26.166247798699132</td><td>        </td><td>      </td><td>581.6186963032113</td><td>4.215436066337475</td><td>9.848799838085414 </td><td>0.15430543486289774 </td><td>                  </td><td>0.05102700171834807  </td><td>15.762332774902038</td><td>3.850363228714463  </td><td>18.771758107666475</td><td>0.3857896486346992  </td><td>22.487107912020416 </td><td>              </td><td>              </td></tr>\n",
       "<tr><td>zeros  </td><td>0                 </td><td>0                 </td><td>0                 </td><td>0                 </td><td>0                 </td><td>423               </td><td>0                </td><td>423               </td><td>               </td><td>0                </td><td>         </td><td>0                  </td><td>0                 </td><td>0                </td><td>1153             </td><td>4835              </td><td>        </td><td>      </td><td>0                </td><td>472              </td><td>420               </td><td>32140               </td><td>                  </td><td>32858                </td><td>5499              </td><td>6607               </td><td>5513              </td><td>6657                </td><td>5341               </td><td>              </td><td>              </td></tr>\n",
       "<tr><td>missing</td><td>0                 </td><td>0                 </td><td>0                 </td><td>0                 </td><td>804               </td><td>0                 </td><td>890              </td><td>0                 </td><td>0              </td><td>0                </td><td>23       </td><td>890                </td><td>10                </td><td>12536            </td><td>890              </td><td>804               </td><td>0       </td><td>0     </td><td>27               </td><td>12064            </td><td>12062             </td><td>0                   </td><td>7299              </td><td>0                    </td><td>26271             </td><td>26271              </td><td>26271             </td><td>26271               </td><td>26271              </td><td>0             </td><td>0             </td></tr>\n",
       "<tr><td>0      </td><td>1987.0            </td><td>10.0              </td><td>14.0              </td><td>3.0               </td><td>741.0             </td><td>730.0             </td><td>912.0            </td><td>849.0             </td><td>PS             </td><td>1451.0           </td><td>NA       </td><td>91.0               </td><td>79.0              </td><td>nan              </td><td>23.0             </td><td>11.0              </td><td>SAN     </td><td>SFO   </td><td>447.0            </td><td>nan              </td><td>nan               </td><td>0.0                 </td><td>NA                </td><td>0.0                  </td><td>nan               </td><td>nan                </td><td>nan               </td><td>nan                 </td><td>nan                </td><td>YES           </td><td>YES           </td></tr>\n",
       "<tr><td>1      </td><td>1987.0            </td><td>10.0              </td><td>15.0              </td><td>4.0               </td><td>729.0             </td><td>730.0             </td><td>903.0            </td><td>849.0             </td><td>PS             </td><td>1451.0           </td><td>NA       </td><td>94.0               </td><td>79.0              </td><td>nan              </td><td>14.0             </td><td>-1.0              </td><td>SAN     </td><td>SFO   </td><td>447.0            </td><td>nan              </td><td>nan               </td><td>0.0                 </td><td>NA                </td><td>0.0                  </td><td>nan               </td><td>nan                </td><td>nan               </td><td>nan                 </td><td>nan                </td><td>YES           </td><td>NO            </td></tr>\n",
       "<tr><td>2      </td><td>1987.0            </td><td>10.0              </td><td>17.0              </td><td>6.0               </td><td>741.0             </td><td>730.0             </td><td>918.0            </td><td>849.0             </td><td>PS             </td><td>1451.0           </td><td>NA       </td><td>97.0               </td><td>79.0              </td><td>nan              </td><td>29.0             </td><td>11.0              </td><td>SAN     </td><td>SFO   </td><td>447.0            </td><td>nan              </td><td>nan               </td><td>0.0                 </td><td>NA                </td><td>0.0                  </td><td>nan               </td><td>nan                </td><td>nan               </td><td>nan                 </td><td>nan                </td><td>YES           </td><td>YES           </td></tr>\n",
       "<tr><td>3      </td><td>1987.0            </td><td>10.0              </td><td>19.0              </td><td>1.0               </td><td>749.0             </td><td>730.0             </td><td>922.0            </td><td>849.0             </td><td>PS             </td><td>1451.0           </td><td>NA       </td><td>93.0               </td><td>79.0              </td><td>nan              </td><td>33.0             </td><td>19.0              </td><td>SAN     </td><td>SFO   </td><td>447.0            </td><td>nan              </td><td>nan               </td><td>0.0                 </td><td>NA                </td><td>0.0                  </td><td>nan               </td><td>nan                </td><td>nan               </td><td>nan                 </td><td>nan                </td><td>YES           </td><td>YES           </td></tr>\n",
       "<tr><td>4      </td><td>1987.0            </td><td>10.0              </td><td>21.0              </td><td>3.0               </td><td>728.0             </td><td>730.0             </td><td>848.0            </td><td>849.0             </td><td>PS             </td><td>1451.0           </td><td>NA       </td><td>80.0               </td><td>79.0              </td><td>nan              </td><td>-1.0             </td><td>-2.0              </td><td>SAN     </td><td>SFO   </td><td>447.0            </td><td>nan              </td><td>nan               </td><td>0.0                 </td><td>NA                </td><td>0.0                  </td><td>nan               </td><td>nan                </td><td>nan               </td><td>nan                 </td><td>nan                </td><td>NO            </td><td>NO            </td></tr>\n",
       "<tr><td>5      </td><td>1987.0            </td><td>10.0              </td><td>22.0              </td><td>4.0               </td><td>728.0             </td><td>730.0             </td><td>852.0            </td><td>849.0             </td><td>PS             </td><td>1451.0           </td><td>NA       </td><td>84.0               </td><td>79.0              </td><td>nan              </td><td>3.0              </td><td>-2.0              </td><td>SAN     </td><td>SFO   </td><td>447.0            </td><td>nan              </td><td>nan               </td><td>0.0                 </td><td>NA                </td><td>0.0                  </td><td>nan               </td><td>nan                </td><td>nan               </td><td>nan                 </td><td>nan                </td><td>YES           </td><td>NO            </td></tr>\n",
       "<tr><td>6      </td><td>1987.0            </td><td>10.0              </td><td>24.0              </td><td>6.0               </td><td>744.0             </td><td>730.0             </td><td>908.0            </td><td>849.0             </td><td>PS             </td><td>1451.0           </td><td>NA       </td><td>84.0               </td><td>79.0              </td><td>nan              </td><td>19.0             </td><td>14.0              </td><td>SAN     </td><td>SFO   </td><td>447.0            </td><td>nan              </td><td>nan               </td><td>0.0                 </td><td>NA                </td><td>0.0                  </td><td>nan               </td><td>nan                </td><td>nan               </td><td>nan                 </td><td>nan                </td><td>YES           </td><td>YES           </td></tr>\n",
       "<tr><td>7      </td><td>1987.0            </td><td>10.0              </td><td>26.0              </td><td>1.0               </td><td>735.0             </td><td>730.0             </td><td>904.0            </td><td>849.0             </td><td>PS             </td><td>1451.0           </td><td>NA       </td><td>89.0               </td><td>79.0              </td><td>nan              </td><td>15.0             </td><td>5.0               </td><td>SAN     </td><td>SFO   </td><td>447.0            </td><td>nan              </td><td>nan               </td><td>0.0                 </td><td>NA                </td><td>0.0                  </td><td>nan               </td><td>nan                </td><td>nan               </td><td>nan                 </td><td>nan                </td><td>YES           </td><td>YES           </td></tr>\n",
       "<tr><td>8      </td><td>1987.0            </td><td>10.0              </td><td>28.0              </td><td>3.0               </td><td>741.0             </td><td>725.0             </td><td>919.0            </td><td>855.0             </td><td>PS             </td><td>1451.0           </td><td>NA       </td><td>98.0               </td><td>90.0              </td><td>nan              </td><td>24.0             </td><td>16.0              </td><td>SAN     </td><td>SFO   </td><td>447.0            </td><td>nan              </td><td>nan               </td><td>0.0                 </td><td>NA                </td><td>0.0                  </td><td>nan               </td><td>nan                </td><td>nan               </td><td>nan                 </td><td>nan                </td><td>YES           </td><td>YES           </td></tr>\n",
       "<tr><td>9      </td><td>1987.0            </td><td>10.0              </td><td>29.0              </td><td>4.0               </td><td>742.0             </td><td>725.0             </td><td>906.0            </td><td>855.0             </td><td>PS             </td><td>1451.0           </td><td>NA       </td><td>84.0               </td><td>90.0              </td><td>nan              </td><td>11.0             </td><td>17.0              </td><td>SAN     </td><td>SFO   </td><td>447.0            </td><td>nan              </td><td>nan               </td><td>0.0                 </td><td>NA                </td><td>0.0                  </td><td>nan               </td><td>nan                </td><td>nan               </td><td>nan                 </td><td>nan                </td><td>YES           </td><td>YES           </td></tr>\n",
       "</tbody>\n",
       "</table>"
      ]
     },
     "metadata": {},
     "output_type": "display_data"
    }
   ],
   "source": [
    "train_075.describe()"
   ]
  },
  {
   "cell_type": "code",
   "execution_count": 10,
   "metadata": {},
   "outputs": [
    {
     "name": "stdout",
     "output_type": "stream",
     "text": [
      "Rows:11034\n",
      "Cols:31\n",
      "\n",
      "\n"
     ]
    },
    {
     "data": {
      "text/html": [
       "<table>\n",
       "<thead>\n",
       "<tr><th>       </th><th>Year             </th><th>Month             </th><th>DayofMonth        </th><th>DayOfWeek         </th><th>DepTime           </th><th>CRSDepTime        </th><th>ArrTime           </th><th>CRSArrTime        </th><th>UniqueCarrier  </th><th>FlightNum        </th><th>TailNum  </th><th>ActualElapsedTime  </th><th>CRSElapsedTime    </th><th>AirTime           </th><th>ArrDelay         </th><th>DepDelay          </th><th>Origin  </th><th>Dest  </th><th>Distance         </th><th>TaxiIn           </th><th>TaxiOut           </th><th>Cancelled          </th><th>CancellationCode  </th><th>Diverted             </th><th>CarrierDelay      </th><th>WeatherDelay      </th><th>NASDelay          </th><th>SecurityDelay       </th><th>LateAircraftDelay  </th><th>IsArrDelayed  </th><th>IsDepDelayed  </th></tr>\n",
       "</thead>\n",
       "<tbody>\n",
       "<tr><td>type   </td><td>int              </td><td>int               </td><td>int               </td><td>int               </td><td>int               </td><td>int               </td><td>int               </td><td>int               </td><td>enum           </td><td>int              </td><td>enum     </td><td>int                </td><td>int               </td><td>int               </td><td>int              </td><td>int               </td><td>enum    </td><td>enum  </td><td>int              </td><td>int              </td><td>int               </td><td>int                </td><td>enum              </td><td>int                  </td><td>int               </td><td>int               </td><td>int               </td><td>int                 </td><td>int                </td><td>enum          </td><td>enum          </td></tr>\n",
       "<tr><td>mins   </td><td>1987.0           </td><td>1.0               </td><td>1.0               </td><td>1.0               </td><td>8.0               </td><td>0.0               </td><td>2.0               </td><td>0.0               </td><td>               </td><td>1.0              </td><td>         </td><td>16.0               </td><td>17.0              </td><td>15.0              </td><td>-48.0            </td><td>-16.0             </td><td>        </td><td>      </td><td>11.0             </td><td>0.0              </td><td>0.0               </td><td>0.0                </td><td>                  </td><td>0.0                  </td><td>0.0               </td><td>0.0               </td><td>0.0               </td><td>0.0                 </td><td>0.0                </td><td>              </td><td>              </td></tr>\n",
       "<tr><td>mean   </td><td>1997.573681348559</td><td>1.4135399673735727</td><td>14.573228203733914</td><td>3.821732825811129 </td><td>1339.2157738095239</td><td>1306.2952691680257</td><td>1497.0121166930744</td><td>1477.9251404748957</td><td>               </td><td>824.2215878194671</td><td>         </td><td>123.99142510951624 </td><td>124.33142960746986</td><td>113.67331310504262</td><td>9.296858980333676</td><td>10.129185267857142</td><td>        </td><td>      </td><td>724.2698167966622</td><td>5.312924208144795</td><td>14.148897058823529</td><td>0.0255573681348559 </td><td>                  </td><td>0.0020844661953960484</td><td>4.261504424778761 </td><td>0.3902654867256637</td><td>4.634513274336284 </td><td>0.016371681415929203</td><td>8.475221238938055  </td><td>              </td><td>              </td></tr>\n",
       "<tr><td>maxs   </td><td>2008.0           </td><td>10.0              </td><td>31.0              </td><td>7.0               </td><td>2400.0            </td><td>2359.0            </td><td>2400.0            </td><td>2359.0            </td><td>               </td><td>3947.0           </td><td>         </td><td>440.0              </td><td>437.0             </td><td>355.0             </td><td>475.0            </td><td>458.0             </td><td>        </td><td>      </td><td>3365.0           </td><td>128.0            </td><td>177.0             </td><td>1.0                </td><td>                  </td><td>1.0                  </td><td>369.0             </td><td>201.0             </td><td>323.0             </td><td>14.0                </td><td>373.0              </td><td>              </td><td>              </td></tr>\n",
       "<tr><td>sigma  </td><td>6.343405429784961</td><td>1.884453830760461 </td><td>9.224322706555153 </td><td>1.9106372289201605</td><td>463.4818979867449 </td><td>474.0981045954784 </td><td>481.05676286692284</td><td>489.81688443159146</td><td>               </td><td>775.728199664727 </td><td>         </td><td>72.67608102198045  </td><td>72.36531197024428 </td><td>68.53758552934492 </td><td>30.5523741712606 </td><td>27.238173697539914</td><td>        </td><td>      </td><td>568.8216643481054</td><td>4.161539745957965</td><td>10.070127542937193</td><td>0.15781776298733638</td><td>                  </td><td>0.04561041254356577  </td><td>17.451234158484382</td><td>5.773494481736044 </td><td>18.165903440046552</td><td>0.4534039511182074  </td><td>26.206484303726793 </td><td>              </td><td>              </td></tr>\n",
       "<tr><td>zeros  </td><td>0                </td><td>0                 </td><td>0                 </td><td>0                 </td><td>0                 </td><td>146               </td><td>0                 </td><td>146               </td><td>               </td><td>0                </td><td>         </td><td>0                  </td><td>0                 </td><td>0                 </td><td>361              </td><td>1558              </td><td>        </td><td>      </td><td>0                </td><td>151              </td><td>137               </td><td>10752              </td><td>                  </td><td>11011                </td><td>1845              </td><td>2233              </td><td>1875              </td><td>2257                </td><td>1799               </td><td>              </td><td>              </td></tr>\n",
       "<tr><td>missing</td><td>0                </td><td>0                 </td><td>0                 </td><td>0                 </td><td>282               </td><td>0                 </td><td>305               </td><td>0                 </td><td>0              </td><td>0                </td><td>9        </td><td>305                </td><td>3                 </td><td>4113              </td><td>305              </td><td>282               </td><td>0       </td><td>0     </td><td>8                </td><td>3962             </td><td>3962              </td><td>0                  </td><td>2475              </td><td>0                    </td><td>8774              </td><td>8774              </td><td>8774              </td><td>8774                </td><td>8774               </td><td>0             </td><td>0             </td></tr>\n",
       "<tr><td>0      </td><td>1987.0           </td><td>10.0              </td><td>18.0              </td><td>7.0               </td><td>729.0             </td><td>730.0             </td><td>847.0             </td><td>849.0             </td><td>PS             </td><td>1451.0           </td><td>NA       </td><td>78.0               </td><td>79.0              </td><td>nan               </td><td>-2.0             </td><td>-1.0              </td><td>SAN     </td><td>SFO   </td><td>447.0            </td><td>nan              </td><td>nan               </td><td>0.0                </td><td>NA                </td><td>0.0                  </td><td>nan               </td><td>nan               </td><td>nan               </td><td>nan                 </td><td>nan                </td><td>NO            </td><td>NO            </td></tr>\n",
       "<tr><td>1      </td><td>1987.0           </td><td>10.0              </td><td>23.0              </td><td>5.0               </td><td>731.0             </td><td>730.0             </td><td>902.0             </td><td>849.0             </td><td>PS             </td><td>1451.0           </td><td>NA       </td><td>91.0               </td><td>79.0              </td><td>nan               </td><td>13.0             </td><td>1.0               </td><td>SAN     </td><td>SFO   </td><td>447.0            </td><td>nan              </td><td>nan               </td><td>0.0                </td><td>NA                </td><td>0.0                  </td><td>nan               </td><td>nan               </td><td>nan               </td><td>nan                 </td><td>nan                </td><td>YES           </td><td>YES           </td></tr>\n",
       "<tr><td>2      </td><td>1987.0           </td><td>10.0              </td><td>25.0              </td><td>7.0               </td><td>729.0             </td><td>730.0             </td><td>851.0             </td><td>849.0             </td><td>PS             </td><td>1451.0           </td><td>NA       </td><td>82.0               </td><td>79.0              </td><td>nan               </td><td>2.0              </td><td>-1.0              </td><td>SAN     </td><td>SFO   </td><td>447.0            </td><td>nan              </td><td>nan               </td><td>0.0                </td><td>NA                </td><td>0.0                  </td><td>nan               </td><td>nan               </td><td>nan               </td><td>nan                 </td><td>nan                </td><td>YES           </td><td>NO            </td></tr>\n",
       "<tr><td>3      </td><td>1987.0           </td><td>10.0              </td><td>2.0               </td><td>5.0               </td><td>918.0             </td><td>915.0             </td><td>1017.0            </td><td>1001.0            </td><td>PS             </td><td>1451.0           </td><td>NA       </td><td>59.0               </td><td>46.0              </td><td>nan               </td><td>16.0             </td><td>3.0               </td><td>SFO     </td><td>RNO   </td><td>192.0            </td><td>nan              </td><td>nan               </td><td>0.0                </td><td>NA                </td><td>0.0                  </td><td>nan               </td><td>nan               </td><td>nan               </td><td>nan                 </td><td>nan                </td><td>YES           </td><td>YES           </td></tr>\n",
       "<tr><td>4      </td><td>1987.0           </td><td>10.0              </td><td>3.0               </td><td>6.0               </td><td>928.0             </td><td>915.0             </td><td>1037.0            </td><td>1001.0            </td><td>PS             </td><td>1451.0           </td><td>NA       </td><td>69.0               </td><td>46.0              </td><td>nan               </td><td>36.0             </td><td>13.0              </td><td>SFO     </td><td>RNO   </td><td>192.0            </td><td>nan              </td><td>nan               </td><td>0.0                </td><td>NA                </td><td>0.0                  </td><td>nan               </td><td>nan               </td><td>nan               </td><td>nan                 </td><td>nan                </td><td>YES           </td><td>YES           </td></tr>\n",
       "<tr><td>5      </td><td>1987.0           </td><td>10.0              </td><td>5.0               </td><td>1.0               </td><td>1042.0            </td><td>915.0             </td><td>1129.0            </td><td>1001.0            </td><td>PS             </td><td>1451.0           </td><td>NA       </td><td>47.0               </td><td>46.0              </td><td>nan               </td><td>88.0             </td><td>87.0              </td><td>SFO     </td><td>RNO   </td><td>192.0            </td><td>nan              </td><td>nan               </td><td>0.0                </td><td>NA                </td><td>0.0                  </td><td>nan               </td><td>nan               </td><td>nan               </td><td>nan                 </td><td>nan                </td><td>YES           </td><td>YES           </td></tr>\n",
       "<tr><td>6      </td><td>1987.0           </td><td>10.0              </td><td>8.0               </td><td>4.0               </td><td>932.0             </td><td>915.0             </td><td>1033.0            </td><td>1001.0            </td><td>PS             </td><td>1451.0           </td><td>NA       </td><td>61.0               </td><td>46.0              </td><td>nan               </td><td>32.0             </td><td>17.0              </td><td>SFO     </td><td>RNO   </td><td>192.0            </td><td>nan              </td><td>nan               </td><td>0.0                </td><td>NA                </td><td>0.0                  </td><td>nan               </td><td>nan               </td><td>nan               </td><td>nan                 </td><td>nan                </td><td>YES           </td><td>YES           </td></tr>\n",
       "<tr><td>7      </td><td>1987.0           </td><td>10.0              </td><td>19.0              </td><td>1.0               </td><td>940.0             </td><td>915.0             </td><td>1032.0            </td><td>1001.0            </td><td>PS             </td><td>1451.0           </td><td>NA       </td><td>52.0               </td><td>46.0              </td><td>nan               </td><td>31.0             </td><td>25.0              </td><td>SFO     </td><td>RNO   </td><td>192.0            </td><td>nan              </td><td>nan               </td><td>0.0                </td><td>NA                </td><td>0.0                  </td><td>nan               </td><td>nan               </td><td>nan               </td><td>nan                 </td><td>nan                </td><td>YES           </td><td>YES           </td></tr>\n",
       "<tr><td>8      </td><td>1987.0           </td><td>10.0              </td><td>26.0              </td><td>1.0               </td><td>917.0             </td><td>915.0             </td><td>1023.0            </td><td>1001.0            </td><td>PS             </td><td>1451.0           </td><td>NA       </td><td>66.0               </td><td>46.0              </td><td>nan               </td><td>22.0             </td><td>2.0               </td><td>SFO     </td><td>RNO   </td><td>192.0            </td><td>nan              </td><td>nan               </td><td>0.0                </td><td>NA                </td><td>0.0                  </td><td>nan               </td><td>nan               </td><td>nan               </td><td>nan                 </td><td>nan                </td><td>YES           </td><td>YES           </td></tr>\n",
       "<tr><td>9      </td><td>1987.0           </td><td>10.0              </td><td>2.0               </td><td>5.0               </td><td>1508.0            </td><td>1505.0            </td><td>1615.0            </td><td>1608.0            </td><td>PS             </td><td>1453.0           </td><td>NA       </td><td>67.0               </td><td>63.0              </td><td>nan               </td><td>7.0              </td><td>3.0               </td><td>BUR     </td><td>OAK   </td><td>325.0            </td><td>nan              </td><td>nan               </td><td>0.0                </td><td>NA                </td><td>0.0                  </td><td>nan               </td><td>nan               </td><td>nan               </td><td>nan                 </td><td>nan                </td><td>YES           </td><td>YES           </td></tr>\n",
       "</tbody>\n",
       "</table>"
      ]
     },
     "metadata": {},
     "output_type": "display_data"
    }
   ],
   "source": [
    "valid_025.describe()"
   ]
  },
  {
   "cell_type": "code",
   "execution_count": 11,
   "metadata": {},
   "outputs": [],
   "source": [
    "from h2o.estimators.glm import H2OGeneralizedLinearEstimator"
   ]
  },
  {
   "cell_type": "code",
   "execution_count": 19,
   "metadata": {},
   "outputs": [],
   "source": [
    "x = airline_df.col_names[:-2]\n",
    "y = airline_df.col_names[-2]\n",
    "airline_glm_v1 = H2OGeneralizedLinearEstimator(model_id = \"glm-v1-00001\",\n",
    "                                               nfolds = 10,\n",
    "                                               response_column = y,\n",
    "                                               ignored_columns=[\"ActualElapsedTime\",\"ArrDelay\",\"DepDelay\",\"Cancelled\",\"Diverted\",\"IsDepDelayed\"],\n",
    "                                               ignore_const_cols = True,\n",
    "                                               family = \"binomial\",\n",
    "                                               solver = \"AUTO\",\n",
    "                                               alpha = 0.5,\n",
    "                                               standardize = True,\n",
    "                                               link = \"logit\")\n",
    "                                               "
   ]
  },
  {
   "cell_type": "code",
   "execution_count": 20,
   "metadata": {},
   "outputs": [
    {
     "name": "stdout",
     "output_type": "stream",
     "text": [
      "glm Model Build progress: |███████████████████████████████████████████████| 100%\n"
     ]
    }
   ],
   "source": [
    "airline_glm_v1.train(x,y,training_frame = train_075, validation_frame=valid_025)"
   ]
  },
  {
   "cell_type": "code",
   "execution_count": null,
   "metadata": {},
   "outputs": [],
   "source": []
  }
 ],
 "metadata": {
  "kernelspec": {
   "display_name": "Python 3",
   "language": "python",
   "name": "python3"
  },
  "language_info": {
   "codemirror_mode": {
    "name": "ipython",
    "version": 3
   },
   "file_extension": ".py",
   "mimetype": "text/x-python",
   "name": "python",
   "nbconvert_exporter": "python",
   "pygments_lexer": "ipython3",
   "version": "3.6.3"
  }
 },
 "nbformat": 4,
 "nbformat_minor": 2
}
