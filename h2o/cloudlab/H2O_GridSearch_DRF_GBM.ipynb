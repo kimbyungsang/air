{
 "cells": [
  {
   "cell_type": "code",
   "execution_count": 26,
   "metadata": {},
   "outputs": [
    {
     "data": {
      "text/html": [
       "<div style=\"overflow:auto\"><table style=\"width:50%\"><tr><td>H2O cluster uptime:</td>\n",
       "<td>43 mins 38 secs</td></tr>\n",
       "<tr><td>H2O cluster version:</td>\n",
       "<td>3.16.0.1</td></tr>\n",
       "<tr><td>H2O cluster version age:</td>\n",
       "<td>6 days </td></tr>\n",
       "<tr><td>H2O cluster name:</td>\n",
       "<td>H2O_from_python_byungsangkim_fxfcq5</td></tr>\n",
       "<tr><td>H2O cluster total nodes:</td>\n",
       "<td>1</td></tr>\n",
       "<tr><td>H2O cluster free memory:</td>\n",
       "<td>825 Mb</td></tr>\n",
       "<tr><td>H2O cluster total cores:</td>\n",
       "<td>2</td></tr>\n",
       "<tr><td>H2O cluster allowed cores:</td>\n",
       "<td>2</td></tr>\n",
       "<tr><td>H2O cluster status:</td>\n",
       "<td>locked, healthy</td></tr>\n",
       "<tr><td>H2O connection url:</td>\n",
       "<td>http://127.0.0.1:54321</td></tr>\n",
       "<tr><td>H2O connection proxy:</td>\n",
       "<td>None</td></tr>\n",
       "<tr><td>H2O internal security:</td>\n",
       "<td>False</td></tr>\n",
       "<tr><td>H2O API Extensions:</td>\n",
       "<td>XGBoost, Algos, AutoML, Core V3, Core V4</td></tr>\n",
       "<tr><td>Python version:</td>\n",
       "<td>3.6.3 final</td></tr></table></div>"
      ],
      "text/plain": [
       "--------------------------  ----------------------------------------\n",
       "H2O cluster uptime:         43 mins 38 secs\n",
       "H2O cluster version:        3.16.0.1\n",
       "H2O cluster version age:    6 days\n",
       "H2O cluster name:           H2O_from_python_byungsangkim_fxfcq5\n",
       "H2O cluster total nodes:    1\n",
       "H2O cluster free memory:    825 Mb\n",
       "H2O cluster total cores:    2\n",
       "H2O cluster allowed cores:  2\n",
       "H2O cluster status:         locked, healthy\n",
       "H2O connection url:         http://127.0.0.1:54321\n",
       "H2O connection proxy:\n",
       "H2O internal security:      False\n",
       "H2O API Extensions:         XGBoost, Algos, AutoML, Core V3, Core V4\n",
       "Python version:             3.6.3 final\n",
       "--------------------------  ----------------------------------------"
      ]
     },
     "metadata": {},
     "output_type": "display_data"
    }
   ],
   "source": [
    "h2o.cluster().show_status()"
   ]
  },
  {
   "cell_type": "code",
   "execution_count": 1,
   "metadata": {},
   "outputs": [
    {
     "name": "stdout",
     "output_type": "stream",
     "text": [
      "Checking whether there is an H2O instance running at http://localhost:54321..... not found.\n",
      "Attempting to start a local H2O server...\n",
      "  Java Version: java version \"1.8.0_77\"; Java(TM) SE Runtime Environment (build 1.8.0_77-b03); Java HotSpot(TM) 64-Bit Server VM (build 25.77-b03, mixed mode)\n",
      "  Starting server from /Users/byungsagkim/Library/Python/3.6/lib/python/site-packages/h2o/backend/bin/h2o.jar\n",
      "  Ice root: /var/folders/xz/jhfpyxt16fd4f_5_pwm1nzcm0000gn/T/tmpyp3592cn\n",
      "  JVM stdout: /var/folders/xz/jhfpyxt16fd4f_5_pwm1nzcm0000gn/T/tmpyp3592cn/h2o_byungsangkim_started_from_python.out\n",
      "  JVM stderr: /var/folders/xz/jhfpyxt16fd4f_5_pwm1nzcm0000gn/T/tmpyp3592cn/h2o_byungsangkim_started_from_python.err\n",
      "  Server is running at http://127.0.0.1:54321\n",
      "Connecting to H2O server at http://127.0.0.1:54321... successful.\n"
     ]
    },
    {
     "data": {
      "text/html": [
       "<div style=\"overflow:auto\"><table style=\"width:50%\"><tr><td>H2O cluster uptime:</td>\n",
       "<td>05 secs</td></tr>\n",
       "<tr><td>H2O cluster version:</td>\n",
       "<td>3.16.0.1</td></tr>\n",
       "<tr><td>H2O cluster version age:</td>\n",
       "<td>6 days </td></tr>\n",
       "<tr><td>H2O cluster name:</td>\n",
       "<td>H2O_from_python_byungsangkim_z2ywfq</td></tr>\n",
       "<tr><td>H2O cluster total nodes:</td>\n",
       "<td>1</td></tr>\n",
       "<tr><td>H2O cluster free memory:</td>\n",
       "<td>1.766 Gb</td></tr>\n",
       "<tr><td>H2O cluster total cores:</td>\n",
       "<td>2</td></tr>\n",
       "<tr><td>H2O cluster allowed cores:</td>\n",
       "<td>2</td></tr>\n",
       "<tr><td>H2O cluster status:</td>\n",
       "<td>accepting new members, healthy</td></tr>\n",
       "<tr><td>H2O connection url:</td>\n",
       "<td>http://127.0.0.1:54321</td></tr>\n",
       "<tr><td>H2O connection proxy:</td>\n",
       "<td>None</td></tr>\n",
       "<tr><td>H2O internal security:</td>\n",
       "<td>False</td></tr>\n",
       "<tr><td>H2O API Extensions:</td>\n",
       "<td>XGBoost, Algos, AutoML, Core V3, Core V4</td></tr>\n",
       "<tr><td>Python version:</td>\n",
       "<td>3.6.3 final</td></tr></table></div>"
      ],
      "text/plain": [
       "--------------------------  ----------------------------------------\n",
       "H2O cluster uptime:         05 secs\n",
       "H2O cluster version:        3.16.0.1\n",
       "H2O cluster version age:    6 days\n",
       "H2O cluster name:           H2O_from_python_byungsangkim_z2ywfq\n",
       "H2O cluster total nodes:    1\n",
       "H2O cluster free memory:    1.766 Gb\n",
       "H2O cluster total cores:    2\n",
       "H2O cluster allowed cores:  2\n",
       "H2O cluster status:         accepting new members, healthy\n",
       "H2O connection url:         http://127.0.0.1:54321\n",
       "H2O connection proxy:\n",
       "H2O internal security:      False\n",
       "H2O API Extensions:         XGBoost, Algos, AutoML, Core V3, Core V4\n",
       "Python version:             3.6.3 final\n",
       "--------------------------  ----------------------------------------"
      ]
     },
     "metadata": {},
     "output_type": "display_data"
    },
    {
     "name": "stdout",
     "output_type": "stream",
     "text": [
      "Parse progress: |█████████████████████████████████████████████████████████| 100%\n"
     ]
    }
   ],
   "source": [
    "import pandas as pd\n",
    "import numpy as np\n",
    "import os\n",
    "import xlrd\n",
    "import urllib\n",
    "import h2o\n",
    "from h2o.grid.grid_search import H2OGridSearch\n",
    "\n",
    "h2o.init(max_mem_size_GB = 2)\n",
    "\n",
    "local_path = os.getcwd()\n",
    "spamdata = h2o.import_file(os.path.realpath(local_path+'/datasets/spamdata.data'))"
   ]
  },
  {
   "cell_type": "code",
   "execution_count": 2,
   "metadata": {},
   "outputs": [],
   "source": [
    "spamdata['C58'] = spamdata['C58'].asfactor()\n",
    "train,valid,test = spamdata.split_frame([0.6,.2], seed=1234)\n",
    "spam_X=spamdata.col_names[:-1]\n",
    "spam_Y=spamdata.col_names[-1]"
   ]
  },
  {
   "cell_type": "markdown",
   "metadata": {},
   "source": [
    "## Grid search for getting optimal params"
   ]
  },
  {
   "cell_type": "code",
   "execution_count": 39,
   "metadata": {},
   "outputs": [
    {
     "name": "stdout",
     "output_type": "stream",
     "text": [
      "drf Grid Build progress: |████████████████████████████████████████████████| 100%\n",
      "     balance_classes max_depth ntrees sample_rate  \\\n",
      "0               true        50    300         0.9   \n",
      "1               true        50    300         0.8   \n",
      "2               true        50    300         0.6   \n",
      "3               true        50    300         0.5   \n",
      "4               true        12    300         0.9   \n",
      "5               true        12    300         0.8   \n",
      "6               true        12    300         0.6   \n",
      "7               true        12    300         0.5   \n",
      "8              false        50    300         0.8   \n",
      "9              false        12    300         0.8   \n",
      "10             false        12    300         0.6   \n",
      "11             false        50    300         0.6   \n",
      "12             false        12    300         0.9   \n",
      "13              true        10    300         0.9   \n",
      "14             false        50    300         0.5   \n",
      "15             false        12    300         0.5   \n",
      "16              true        10    300         0.8   \n",
      "17              true        10    300         0.6   \n",
      "18             false        10    300         0.8   \n",
      "19              true        10    300         0.5   \n",
      "20             false        10    300         0.6   \n",
      "21             false        10    300         0.9   \n",
      "22             false        10    300         0.5   \n",
      "23             false        50    300         0.9   \n",
      "24             false         6    300         0.6   \n",
      "25             false         6    300         0.8   \n",
      "26             false         6    300         0.9   \n",
      "27             false         6    300         0.5   \n",
      "28              true         6    300         0.6   \n",
      "29              true         6    300         0.9   \n",
      "30              true         6    300         0.8   \n",
      "31              true         6    300         0.5   \n",
      "32             false         3    300         0.6   \n",
      "33             false         3    300         0.5   \n",
      "34             false         3    300         0.8   \n",
      "35             false         3    300         0.9   \n",
      "36              true         3    300         0.8   \n",
      "37              true         3    300         0.6   \n",
      "38              true         3    300         0.5   \n",
      "39              true         3    300         0.9   \n",
      "\n",
      "                                                        model_ids  \\\n",
      "0   Grid_DRF_py_17_sid_bcdc_model_python_1512024223931_2_model_38   \n",
      "1   Grid_DRF_py_17_sid_bcdc_model_python_1512024223931_2_model_28   \n",
      "2   Grid_DRF_py_17_sid_bcdc_model_python_1512024223931_2_model_18   \n",
      "3    Grid_DRF_py_17_sid_bcdc_model_python_1512024223931_2_model_8   \n",
      "4   Grid_DRF_py_17_sid_bcdc_model_python_1512024223931_2_model_36   \n",
      "5   Grid_DRF_py_17_sid_bcdc_model_python_1512024223931_2_model_26   \n",
      "6   Grid_DRF_py_17_sid_bcdc_model_python_1512024223931_2_model_16   \n",
      "7    Grid_DRF_py_17_sid_bcdc_model_python_1512024223931_2_model_6   \n",
      "8   Grid_DRF_py_17_sid_bcdc_model_python_1512024223931_2_model_29   \n",
      "9   Grid_DRF_py_17_sid_bcdc_model_python_1512024223931_2_model_27   \n",
      "10  Grid_DRF_py_17_sid_bcdc_model_python_1512024223931_2_model_17   \n",
      "11  Grid_DRF_py_17_sid_bcdc_model_python_1512024223931_2_model_19   \n",
      "12  Grid_DRF_py_17_sid_bcdc_model_python_1512024223931_2_model_37   \n",
      "13  Grid_DRF_py_17_sid_bcdc_model_python_1512024223931_2_model_34   \n",
      "14   Grid_DRF_py_17_sid_bcdc_model_python_1512024223931_2_model_9   \n",
      "15   Grid_DRF_py_17_sid_bcdc_model_python_1512024223931_2_model_7   \n",
      "16  Grid_DRF_py_17_sid_bcdc_model_python_1512024223931_2_model_24   \n",
      "17  Grid_DRF_py_17_sid_bcdc_model_python_1512024223931_2_model_14   \n",
      "18  Grid_DRF_py_17_sid_bcdc_model_python_1512024223931_2_model_25   \n",
      "19   Grid_DRF_py_17_sid_bcdc_model_python_1512024223931_2_model_4   \n",
      "20  Grid_DRF_py_17_sid_bcdc_model_python_1512024223931_2_model_15   \n",
      "21  Grid_DRF_py_17_sid_bcdc_model_python_1512024223931_2_model_35   \n",
      "22   Grid_DRF_py_17_sid_bcdc_model_python_1512024223931_2_model_5   \n",
      "23  Grid_DRF_py_17_sid_bcdc_model_python_1512024223931_2_model_39   \n",
      "24  Grid_DRF_py_17_sid_bcdc_model_python_1512024223931_2_model_13   \n",
      "25  Grid_DRF_py_17_sid_bcdc_model_python_1512024223931_2_model_23   \n",
      "26  Grid_DRF_py_17_sid_bcdc_model_python_1512024223931_2_model_33   \n",
      "27   Grid_DRF_py_17_sid_bcdc_model_python_1512024223931_2_model_3   \n",
      "28  Grid_DRF_py_17_sid_bcdc_model_python_1512024223931_2_model_12   \n",
      "29  Grid_DRF_py_17_sid_bcdc_model_python_1512024223931_2_model_32   \n",
      "30  Grid_DRF_py_17_sid_bcdc_model_python_1512024223931_2_model_22   \n",
      "31   Grid_DRF_py_17_sid_bcdc_model_python_1512024223931_2_model_2   \n",
      "32  Grid_DRF_py_17_sid_bcdc_model_python_1512024223931_2_model_11   \n",
      "33   Grid_DRF_py_17_sid_bcdc_model_python_1512024223931_2_model_1   \n",
      "34  Grid_DRF_py_17_sid_bcdc_model_python_1512024223931_2_model_21   \n",
      "35  Grid_DRF_py_17_sid_bcdc_model_python_1512024223931_2_model_31   \n",
      "36  Grid_DRF_py_17_sid_bcdc_model_python_1512024223931_2_model_20   \n",
      "37  Grid_DRF_py_17_sid_bcdc_model_python_1512024223931_2_model_10   \n",
      "38   Grid_DRF_py_17_sid_bcdc_model_python_1512024223931_2_model_0   \n",
      "39  Grid_DRF_py_17_sid_bcdc_model_python_1512024223931_2_model_30   \n",
      "\n",
      "                logloss  \n",
      "0   0.11990903789494199  \n",
      "1   0.12571432868682114  \n",
      "2   0.13099695869609834  \n",
      "3   0.14623968378270924  \n",
      "4    0.1754113190902311  \n",
      "5   0.17640731044685146  \n",
      "6   0.18618088419092263  \n",
      "7   0.18660848845877132  \n",
      "8   0.18996497713264726  \n",
      "9   0.19215766014176386  \n",
      "10    0.194996479301696  \n",
      "11   0.1950715216418186  \n",
      "12   0.1957108182910787  \n",
      "13  0.19701248198064833  \n",
      "14   0.1985403861740134  \n",
      "15  0.19950084000801452  \n",
      "16  0.20068685961845928  \n",
      "17  0.20324607227677613  \n",
      "18   0.2063132961809213  \n",
      "19  0.20731466187683187  \n",
      "20  0.20736849991524284  \n",
      "21  0.20848143111620487  \n",
      "22  0.21239656472188115  \n",
      "23  0.22138533123477858  \n",
      "24  0.24767073734032863  \n",
      "25  0.24935684053623983  \n",
      "26  0.25086330114593797  \n",
      "27  0.25138138459895876  \n",
      "28  0.25678791069236745  \n",
      "29   0.2590695262862972  \n",
      "30   0.2612226974543603  \n",
      "31  0.26540201840382227  \n",
      "32   0.3272868647748915  \n",
      "33    0.328378849132595  \n",
      "34   0.3338087541200586  \n",
      "35    0.335573600947829  \n",
      "36  0.35502404188220277  \n",
      "37  0.35658066847910336  \n",
      "38   0.3582267139838358  \n",
      "39  0.36210247491476244  \n",
      "This is the optimum solution for hyper parameters search None\n"
     ]
    }
   ],
   "source": [
    "from h2o.estimators import H2ORandomForestEstimator \n",
    "\n",
    "hyper_parameters={'ntrees':[300], 'max_depth':[3,6,10,12,50], \\\n",
    "                  'balance_classes':['True', 'False'], 'sample_rate':[.5,.6,.8,.9]}\n",
    "grid_search = H2OGridSearch(model = H2ORandomForestEstimator, hyper_params=hyper_parameters)\n",
    "grid_search.train(x=spam_X, y=spam_Y, training_frame=train)\n",
    "print('This is the optimum solution for hyper parameters search %s' % grid_search.show())\n"
   ]
  },
  {
   "cell_type": "markdown",
   "metadata": {},
   "source": [
    "## Using DRF"
   ]
  },
  {
   "cell_type": "code",
   "execution_count": 40,
   "metadata": {},
   "outputs": [
    {
     "name": "stdout",
     "output_type": "stream",
     "text": [
      "drf Model Build progress: |███████████████████████████████████████████████| 100%\n",
      "drf prediction progress: |████████████████████████████████████████████████| 100%\n"
     ]
    },
    {
     "data": {
      "text/html": [
       "<table>\n",
       "<thead>\n",
       "<tr><th style=\"text-align: right;\">  predict</th><th style=\"text-align: right;\">         p0</th><th style=\"text-align: right;\">      p1</th></tr>\n",
       "</thead>\n",
       "<tbody>\n",
       "<tr><td style=\"text-align: right;\">        1</td><td style=\"text-align: right;\">0.00973471 </td><td style=\"text-align: right;\">0.990265</td></tr>\n",
       "<tr><td style=\"text-align: right;\">        1</td><td style=\"text-align: right;\">0.00719774 </td><td style=\"text-align: right;\">0.992802</td></tr>\n",
       "<tr><td style=\"text-align: right;\">        1</td><td style=\"text-align: right;\">0.121163   </td><td style=\"text-align: right;\">0.878837</td></tr>\n",
       "<tr><td style=\"text-align: right;\">        1</td><td style=\"text-align: right;\">0.0521552  </td><td style=\"text-align: right;\">0.947845</td></tr>\n",
       "<tr><td style=\"text-align: right;\">        1</td><td style=\"text-align: right;\">0.0166704  </td><td style=\"text-align: right;\">0.98333 </td></tr>\n",
       "<tr><td style=\"text-align: right;\">        1</td><td style=\"text-align: right;\">0.00260096 </td><td style=\"text-align: right;\">0.997399</td></tr>\n",
       "<tr><td style=\"text-align: right;\">        0</td><td style=\"text-align: right;\">0.773304   </td><td style=\"text-align: right;\">0.226696</td></tr>\n",
       "<tr><td style=\"text-align: right;\">        1</td><td style=\"text-align: right;\">0.000274015</td><td style=\"text-align: right;\">0.999726</td></tr>\n",
       "<tr><td style=\"text-align: right;\">        1</td><td style=\"text-align: right;\">0.0927196  </td><td style=\"text-align: right;\">0.90728 </td></tr>\n",
       "<tr><td style=\"text-align: right;\">        1</td><td style=\"text-align: right;\">0.00519705 </td><td style=\"text-align: right;\">0.994803</td></tr>\n",
       "</tbody>\n",
       "</table>"
      ]
     },
     "metadata": {},
     "output_type": "display_data"
    },
    {
     "name": "stdout",
     "output_type": "stream",
     "text": [
      "\n"
     ]
    }
   ],
   "source": [
    "final = H2ORandomForestEstimator(ntrees=300, max_depth=50, balance_classes=True, sample_rate=.9)\n",
    "final.train(x=spam_X, y=spam_Y, training_frame=train)\n",
    "print(final.predict(test))"
   ]
  },
  {
   "cell_type": "markdown",
   "metadata": {},
   "source": [
    "## Save and Load the Model"
   ]
  },
  {
   "cell_type": "code",
   "execution_count": 42,
   "metadata": {},
   "outputs": [
    {
     "name": "stdout",
     "output_type": "stream",
     "text": [
      "/Users/byungsagkim/opt/python/model/cart/DRF_model_python_1512024223931_4062\n",
      "drf prediction progress: |████████████████████████████████████████████████| 100%\n"
     ]
    },
    {
     "data": {
      "text/html": [
       "<table>\n",
       "<thead>\n",
       "<tr><th style=\"text-align: right;\">  predict</th><th style=\"text-align: right;\">         p0</th><th style=\"text-align: right;\">      p1</th></tr>\n",
       "</thead>\n",
       "<tbody>\n",
       "<tr><td style=\"text-align: right;\">        1</td><td style=\"text-align: right;\">0.00973471 </td><td style=\"text-align: right;\">0.990265</td></tr>\n",
       "<tr><td style=\"text-align: right;\">        1</td><td style=\"text-align: right;\">0.00719774 </td><td style=\"text-align: right;\">0.992802</td></tr>\n",
       "<tr><td style=\"text-align: right;\">        1</td><td style=\"text-align: right;\">0.121163   </td><td style=\"text-align: right;\">0.878837</td></tr>\n",
       "<tr><td style=\"text-align: right;\">        1</td><td style=\"text-align: right;\">0.0521552  </td><td style=\"text-align: right;\">0.947845</td></tr>\n",
       "<tr><td style=\"text-align: right;\">        1</td><td style=\"text-align: right;\">0.0166704  </td><td style=\"text-align: right;\">0.98333 </td></tr>\n",
       "<tr><td style=\"text-align: right;\">        1</td><td style=\"text-align: right;\">0.00260096 </td><td style=\"text-align: right;\">0.997399</td></tr>\n",
       "<tr><td style=\"text-align: right;\">        0</td><td style=\"text-align: right;\">0.773304   </td><td style=\"text-align: right;\">0.226696</td></tr>\n",
       "<tr><td style=\"text-align: right;\">        1</td><td style=\"text-align: right;\">0.000274015</td><td style=\"text-align: right;\">0.999726</td></tr>\n",
       "<tr><td style=\"text-align: right;\">        1</td><td style=\"text-align: right;\">0.0927196  </td><td style=\"text-align: right;\">0.90728 </td></tr>\n",
       "<tr><td style=\"text-align: right;\">        1</td><td style=\"text-align: right;\">0.00519705 </td><td style=\"text-align: right;\">0.994803</td></tr>\n",
       "</tbody>\n",
       "</table>"
      ]
     },
     "metadata": {},
     "output_type": "display_data"
    },
    {
     "name": "stdout",
     "output_type": "stream",
     "text": [
      "\n"
     ]
    }
   ],
   "source": [
    "# save the model\n",
    "model_path = h2o.save_model(model=final, path=os.getcwd() + \"/model/cart\", force=True)\n",
    "\n",
    "print(model_path)\n",
    "\n",
    "# load the model\n",
    "saved_cart = h2o.load_model(model_path)\n",
    "print(saved_cart.predict(test))"
   ]
  },
  {
   "cell_type": "markdown",
   "metadata": {},
   "source": [
    "## Using GBM"
   ]
  },
  {
   "cell_type": "code",
   "execution_count": 45,
   "metadata": {},
   "outputs": [
    {
     "name": "stdout",
     "output_type": "stream",
     "text": [
      "gbm Grid Build progress: |████████████████████████████████████████████████| 100%\n",
      "     col_sample_rate learn_rate max_depth ntrees sample_rate  \\\n",
      "0                0.9        0.3        30    300         0.7   \n",
      "1                1.0        0.3        50    300         0.7   \n",
      "2                0.9        0.3        50    300         0.7   \n",
      "3                0.9        0.3        12    300         0.7   \n",
      "4                1.0        0.3        12    300         0.7   \n",
      "5                0.9        0.3        30    300         0.5   \n",
      "6                1.0        0.3        30    300         0.7   \n",
      "7                0.9        0.3        12    300         0.5   \n",
      "8                1.0        0.3        30    300         0.5   \n",
      "9                1.0        0.3        12    300         0.5   \n",
      "10               1.0        0.3        50    300         0.5   \n",
      "11               0.9        0.1        30    300         0.7   \n",
      "12               0.9        0.1        50    300         0.7   \n",
      "13               0.9        0.3        50    300         0.5   \n",
      "14               1.0        0.1        50    300         0.7   \n",
      "15               1.0        0.3        50    300         1.0   \n",
      "16               0.9        0.3        50    300         1.0   \n",
      "17               0.9        0.1        50    300         1.0   \n",
      "18               1.0        0.3        30    300         1.0   \n",
      "19               0.9        0.3        30    300         1.0   \n",
      "20               1.0        0.1        30    300         0.7   \n",
      "21               0.9        0.1        30    300         1.0   \n",
      "22               1.0        0.1        30    300         1.0   \n",
      "23               1.0        0.1        50    300         1.0   \n",
      "24               1.0        0.1        50    300         0.5   \n",
      "25               1.0        0.3        12    300         1.0   \n",
      "26               0.9        0.1        30    300         0.5   \n",
      "27               0.9        0.1        12    300         0.7   \n",
      "28               0.9        0.3        12    300         1.0   \n",
      "29               1.0        0.1        12    300         1.0   \n",
      "30               0.9        0.1        12    300         1.0   \n",
      "31               0.9        0.1        50    300         0.5   \n",
      "32               1.0        0.1        30    300         0.5   \n",
      "33               1.0        0.1        12    300         0.7   \n",
      "34               1.0        0.1        12    300         0.5   \n",
      "35               0.9        0.1        12    300         0.5   \n",
      "\n",
      "                                                           model_ids  \\\n",
      "0   Grid_GBM_py_17_sid_bcdc_model_python_1512024223931_6607_model_28   \n",
      "1   Grid_GBM_py_17_sid_bcdc_model_python_1512024223931_6607_model_35   \n",
      "2   Grid_GBM_py_17_sid_bcdc_model_python_1512024223931_6607_model_34   \n",
      "3   Grid_GBM_py_17_sid_bcdc_model_python_1512024223931_6607_model_22   \n",
      "4   Grid_GBM_py_17_sid_bcdc_model_python_1512024223931_6607_model_23   \n",
      "5   Grid_GBM_py_17_sid_bcdc_model_python_1512024223931_6607_model_10   \n",
      "6   Grid_GBM_py_17_sid_bcdc_model_python_1512024223931_6607_model_29   \n",
      "7    Grid_GBM_py_17_sid_bcdc_model_python_1512024223931_6607_model_4   \n",
      "8   Grid_GBM_py_17_sid_bcdc_model_python_1512024223931_6607_model_11   \n",
      "9    Grid_GBM_py_17_sid_bcdc_model_python_1512024223931_6607_model_5   \n",
      "10  Grid_GBM_py_17_sid_bcdc_model_python_1512024223931_6607_model_17   \n",
      "11  Grid_GBM_py_17_sid_bcdc_model_python_1512024223931_6607_model_24   \n",
      "12  Grid_GBM_py_17_sid_bcdc_model_python_1512024223931_6607_model_30   \n",
      "13  Grid_GBM_py_17_sid_bcdc_model_python_1512024223931_6607_model_16   \n",
      "14  Grid_GBM_py_17_sid_bcdc_model_python_1512024223931_6607_model_31   \n",
      "15  Grid_GBM_py_17_sid_bcdc_model_python_1512024223931_6607_model_53   \n",
      "16  Grid_GBM_py_17_sid_bcdc_model_python_1512024223931_6607_model_52   \n",
      "17  Grid_GBM_py_17_sid_bcdc_model_python_1512024223931_6607_model_48   \n",
      "18  Grid_GBM_py_17_sid_bcdc_model_python_1512024223931_6607_model_47   \n",
      "19  Grid_GBM_py_17_sid_bcdc_model_python_1512024223931_6607_model_46   \n",
      "20  Grid_GBM_py_17_sid_bcdc_model_python_1512024223931_6607_model_25   \n",
      "21  Grid_GBM_py_17_sid_bcdc_model_python_1512024223931_6607_model_42   \n",
      "22  Grid_GBM_py_17_sid_bcdc_model_python_1512024223931_6607_model_43   \n",
      "23  Grid_GBM_py_17_sid_bcdc_model_python_1512024223931_6607_model_49   \n",
      "24  Grid_GBM_py_17_sid_bcdc_model_python_1512024223931_6607_model_13   \n",
      "25  Grid_GBM_py_17_sid_bcdc_model_python_1512024223931_6607_model_41   \n",
      "26   Grid_GBM_py_17_sid_bcdc_model_python_1512024223931_6607_model_6   \n",
      "27  Grid_GBM_py_17_sid_bcdc_model_python_1512024223931_6607_model_18   \n",
      "28  Grid_GBM_py_17_sid_bcdc_model_python_1512024223931_6607_model_40   \n",
      "29  Grid_GBM_py_17_sid_bcdc_model_python_1512024223931_6607_model_37   \n",
      "30  Grid_GBM_py_17_sid_bcdc_model_python_1512024223931_6607_model_36   \n",
      "31  Grid_GBM_py_17_sid_bcdc_model_python_1512024223931_6607_model_12   \n",
      "32   Grid_GBM_py_17_sid_bcdc_model_python_1512024223931_6607_model_7   \n",
      "33  Grid_GBM_py_17_sid_bcdc_model_python_1512024223931_6607_model_19   \n",
      "34   Grid_GBM_py_17_sid_bcdc_model_python_1512024223931_6607_model_1   \n",
      "35   Grid_GBM_py_17_sid_bcdc_model_python_1512024223931_6607_model_0   \n",
      "\n",
      "                  logloss  \n",
      "0   0.0015249138505408985  \n",
      "1   0.0015487645517655072  \n",
      "2   0.0015622225766605716  \n",
      "3   0.0015665068094958844  \n",
      "4   0.0016057819994732072  \n",
      "5   0.0016457146275453123  \n",
      "6   0.0016477422009886153  \n",
      "7    0.001730816292787693  \n",
      "8   0.0017322515994763574  \n",
      "9   0.0017794625750283456  \n",
      "10  0.0017906776837774072  \n",
      "11  0.0018504749588988602  \n",
      "12  0.0018917127929977493  \n",
      "13  0.0019011035292914081  \n",
      "14  0.0019246235025305264  \n",
      "15  0.0019570272780394023  \n",
      "16   0.001987352675961727  \n",
      "17   0.002010427307301383  \n",
      "18  0.0020383013805814515  \n",
      "19  0.0020739507576496056  \n",
      "20   0.002095118458876189  \n",
      "21  0.0021042837552737196  \n",
      "22   0.002157689007676437  \n",
      "23  0.0021640260578226302  \n",
      "24   0.002284728062782655  \n",
      "25  0.0023004035458050382  \n",
      "26  0.0023539608454190898  \n",
      "27  0.0023774971739762064  \n",
      "28  0.0024007634532188663  \n",
      "29   0.002436294457633638  \n",
      "30  0.0024489197485565266  \n",
      "31   0.002518432334690429  \n",
      "32   0.002648714053179439  \n",
      "33  0.0027243653844132784  \n",
      "34  0.0037873156298082436  \n",
      "35  0.0043500507522474105  \n",
      "this is the optimum solution for hyper parameters search None\n"
     ]
    }
   ],
   "source": [
    "from h2o.estimators import H2OGradientBoostingEstimator\n",
    "\n",
    "hyper_parameters = {'ntrees':[300], 'max_depth':[12,30,50], 'sample_rate':[.5,.7,1], \\\n",
    "                   'col_sample_rate':[.9,1], 'learn_rate':[0.1,.1,.3],}\n",
    "grid_search = H2OGridSearch(H2OGradientBoostingEstimator, hyper_parameters)\n",
    "grid_search.train(x=spam_X, y=spam_Y, training_frame=train)\n",
    "print('this is the optimum solution for hyper parameters search %s' % grid_search.show())"
   ]
  },
  {
   "cell_type": "code",
   "execution_count": 4,
   "metadata": {},
   "outputs": [
    {
     "name": "stdout",
     "output_type": "stream",
     "text": [
      "gbm Model Build progress: |███████████████████████████████████████████████| 100%\n",
      "Confusion Matrix (Act/Pred) for max accuracy @ threshold = 0.9935320164798572: \n"
     ]
    },
    {
     "data": {
      "text/html": [
       "<div style=\"overflow:auto\"><table style=\"width:50%\"><tr><td><b></b></td>\n",
       "<td><b>0</b></td>\n",
       "<td><b>1</b></td>\n",
       "<td><b>Error</b></td>\n",
       "<td><b>Rate</b></td></tr>\n",
       "<tr><td>0</td>\n",
       "<td>1683.0</td>\n",
       "<td>0.0</td>\n",
       "<td>0.0</td>\n",
       "<td> (0.0/1683.0)</td></tr>\n",
       "<tr><td>1</td>\n",
       "<td>3.0</td>\n",
       "<td>1077.0</td>\n",
       "<td>0.0028</td>\n",
       "<td> (3.0/1080.0)</td></tr>\n",
       "<tr><td>Total</td>\n",
       "<td>1686.0</td>\n",
       "<td>1077.0</td>\n",
       "<td>0.0011</td>\n",
       "<td> (3.0/2763.0)</td></tr></table></div>"
      ],
      "text/plain": [
       "       0     1     Error    Rate\n",
       "-----  ----  ----  -------  ------------\n",
       "0      1683  0     0        (0.0/1683.0)\n",
       "1      3     1077  0.0028   (3.0/1080.0)\n",
       "Total  1686  1077  0.0011   (3.0/2763.0)"
      ]
     },
     "metadata": {},
     "output_type": "display_data"
    },
    {
     "name": "stdout",
     "output_type": "stream",
     "text": [
      "\n"
     ]
    }
   ],
   "source": [
    "from h2o.estimators import H2OGradientBoostingEstimator\n",
    "\n",
    "spam_gbm2 = H2OGradientBoostingEstimator(ntrees=300, learn_rate=0.3, max_depth=30, \\\n",
    "                                         sample_rate=0.7, col_sample_rate=0.9, \\\n",
    "                                         score_each_iteration=True, seed=2000000)\n",
    "spam_gbm2.train(spam_X, spam_Y, training_frame=train, validation_frame=valid)\n",
    "confusion_matrix = spam_gbm2.confusion_matrix(metrics=\"accuracy\")\n",
    "print(confusion_matrix)"
   ]
  },
  {
   "cell_type": "code",
   "execution_count": 5,
   "metadata": {},
   "outputs": [
    {
     "name": "stdout",
     "output_type": "stream",
     "text": [
      "gbm prediction progress: |████████████████████████████████████████████████| 100%\n"
     ]
    },
    {
     "data": {
      "text/html": [
       "<table>\n",
       "<thead>\n",
       "<tr><th style=\"text-align: right;\">  predict</th><th style=\"text-align: right;\">         p0</th><th style=\"text-align: right;\">        p1</th></tr>\n",
       "</thead>\n",
       "<tbody>\n",
       "<tr><td style=\"text-align: right;\">        1</td><td style=\"text-align: right;\">1.26565e-14</td><td style=\"text-align: right;\">1         </td></tr>\n",
       "<tr><td style=\"text-align: right;\">        1</td><td style=\"text-align: right;\">1.58762e-13</td><td style=\"text-align: right;\">1         </td></tr>\n",
       "<tr><td style=\"text-align: right;\">        1</td><td style=\"text-align: right;\">2.22045e-16</td><td style=\"text-align: right;\">1         </td></tr>\n",
       "<tr><td style=\"text-align: right;\">        1</td><td style=\"text-align: right;\">0.727781   </td><td style=\"text-align: right;\">0.272219  </td></tr>\n",
       "<tr><td style=\"text-align: right;\">        1</td><td style=\"text-align: right;\">1.37668e-14</td><td style=\"text-align: right;\">1         </td></tr>\n",
       "<tr><td style=\"text-align: right;\">        1</td><td style=\"text-align: right;\">9.34142e-13</td><td style=\"text-align: right;\">1         </td></tr>\n",
       "<tr><td style=\"text-align: right;\">        0</td><td style=\"text-align: right;\">0.996316   </td><td style=\"text-align: right;\">0.00368436</td></tr>\n",
       "<tr><td style=\"text-align: right;\">        1</td><td style=\"text-align: right;\">3.3995e-13 </td><td style=\"text-align: right;\">1         </td></tr>\n",
       "<tr><td style=\"text-align: right;\">        1</td><td style=\"text-align: right;\">2.57172e-09</td><td style=\"text-align: right;\">1         </td></tr>\n",
       "<tr><td style=\"text-align: right;\">        1</td><td style=\"text-align: right;\">0          </td><td style=\"text-align: right;\">1         </td></tr>\n",
       "</tbody>\n",
       "</table>"
      ]
     },
     "metadata": {},
     "output_type": "display_data"
    },
    {
     "name": "stdout",
     "output_type": "stream",
     "text": [
      "\n"
     ]
    }
   ],
   "source": [
    "print(spam_gbm2.predict(test))"
   ]
  },
  {
   "cell_type": "code",
   "execution_count": null,
   "metadata": {},
   "outputs": [],
   "source": []
  }
 ],
 "metadata": {
  "kernelspec": {
   "display_name": "Python 3",
   "language": "python",
   "name": "python3"
  },
  "language_info": {
   "codemirror_mode": {
    "name": "ipython",
    "version": 3
   },
   "file_extension": ".py",
   "mimetype": "text/x-python",
   "name": "python",
   "nbconvert_exporter": "python",
   "pygments_lexer": "ipython3",
   "version": "3.6.3"
  }
 },
 "nbformat": 4,
 "nbformat_minor": 2
}
