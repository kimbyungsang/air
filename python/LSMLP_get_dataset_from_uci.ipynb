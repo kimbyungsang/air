{
 "cells": [
  {
   "cell_type": "code",
   "execution_count": 15,
   "metadata": {
    "scrolled": true
   },
   "outputs": [],
   "source": [
    "import urllib.request\n",
    "import requests, io, os\n",
    "import numpy as np\n",
    "import tarfile, zipfile, gzip"
   ]
  },
  {
   "cell_type": "code",
   "execution_count": 38,
   "metadata": {
    "scrolled": true
   },
   "outputs": [],
   "source": [
    "def unzip_from_UCI(UCI_url, dest=''):\n",
    "    \"\"\" download and extract the zipped UCI datasets\"\"\"\n",
    "    response = requests.get(UCI_url)\n",
    "    compressed_file = io.BytesIO(response.content)\n",
    "    z = zipfile.ZipFile(compressed_file)\n",
    "    print('Extracting in %s' % os.getcwd() + '/'+ dest)\n",
    "    for name in z.namelist():\n",
    "        if '.csv' in name:\n",
    "            print('\\tunzipping %s' %name)\n",
    "            z.extract(name, path=os.getcwd()+'/'+ dest)"
   ]
  },
  {
   "cell_type": "code",
   "execution_count": 39,
   "metadata": {
    "scrolled": true
   },
   "outputs": [],
   "source": [
    "def gzip_from_UCI(UCI_url, dest=''):\n",
    "    \"\"\" download and extract the gziped UCI datasets\"\"\"\n",
    "    response = urllib.request.urlopen(UCI_url)\n",
    "    compressed_file = io.ByteIO(response.read())\n",
    "    decompressed_file = gzip.GzipFile(fileobj = compressed_file)\n",
    "    filename = UCI_url.split('/')[-1][:-3]\n",
    "    with open(os.getcwd()+'/'+filename, 'wb') as outfile:\n",
    "        outfile.write(decompressed_file.read())\n",
    "        print('File %s decompress' % filename)"
   ]
  },
  {
   "cell_type": "code",
   "execution_count": 40,
   "metadata": {
    "scrolled": true
   },
   "outputs": [],
   "source": [
    "def tarzip_from_UCI(UCI_url, dest='.'):\n",
    "    \"\"\" download and extract tar.gz UCI datasets\"\"\"\n",
    "    response = urllib.request.urlopen(UCI_url)\n",
    "    compressed_file = io.StringIO.StringIO(response.read())\n",
    "    tar = tarfile.open(mode=\"r:gz\", fileobj = compressed_file)\n",
    "    tar.extractall(path=dest)\n",
    "    datasets = tar.getnames()\n",
    "    for dataset in datasets:\n",
    "        size = os.path.getsize(dest+'/'+datasets)\n",
    "        print('File %s is %i bytes' % (dataset, size))\n",
    "    tar.close()\n"
   ]
  },
  {
   "cell_type": "code",
   "execution_count": 41,
   "metadata": {
    "scrolled": true
   },
   "outputs": [],
   "source": [
    "def load_matrix(UCI_url):\n",
    "    \"\"\" download and extract as matrix\"\"\"\n",
    "    return np.loadtxt(urllib.request.urlopen(UCI_url))"
   ]
  },
  {
   "cell_type": "code",
   "execution_count": null,
   "metadata": {
    "scrolled": true
   },
   "outputs": [],
   "source": []
  },
  {
   "cell_type": "code",
   "execution_count": 42,
   "metadata": {
    "scrolled": true
   },
   "outputs": [
    {
     "name": "stdout",
     "output_type": "stream",
     "text": [
      "Extracting in /Users/byungsagkim/opt/python/bikesharing\n",
      "\tunzipping day.csv\n",
      "\tunzipping hour.csv\n"
     ]
    }
   ],
   "source": [
    "UCI_url = 'https://archive.ics.uci.edu/ml/machine-learning-databases/00275/Bike-Sharing-Dataset.zip'\n",
    "unzip_from_UCI(UCI_url, dest='bikesharing')"
   ]
  },
  {
   "cell_type": "code",
   "execution_count": 46,
   "metadata": {
    "scrolled": true
   },
   "outputs": [
    {
     "name": "stdout",
     "output_type": "stream",
     "text": [
      "Total rows: 17380\n",
      "Header: instant, dteday, season, yr, mnth, hr, holiday, weekday, workingday, weathersit, temp, atemp, hum, windspeed, casual, registered, cnt\n",
      "Sample values: 17379, 2012-12-31, 1, 1, 12, 23, 0, 1, 1, 1, 0.26, 0.2727, 0.65, 0.1343, 12, 37, 49\n"
     ]
    }
   ],
   "source": [
    "import os, csv\n",
    "local_path = os.getcwd()\n",
    "source = 'bikesharing/hour.csv'\n",
    "SEP = ','\n",
    "with open(local_path+'/'+source, 'r') as R:\n",
    "    iterator = csv.reader(R, delimiter=SEP)\n",
    "    for n, row in enumerate(iterator):\n",
    "        if n==0:\n",
    "            header = row\n",
    "        else:\n",
    "            pass\n",
    "    print('Total rows: %i' % (n+1))\n",
    "    print('Header: %s' % ', '.join(header))\n",
    "    print('Sample values: %s' % ', '.join(row))"
   ]
  },
  {
   "cell_type": "code",
   "execution_count": 48,
   "metadata": {
    "scrolled": true
   },
   "outputs": [
    {
     "name": "stdout",
     "output_type": "stream",
     "text": [
      "Size of uploaded chunk: 1000 instances, 17 features\n",
      "Size of uploaded chunk: 1000 instances, 17 features\n",
      "Size of uploaded chunk: 1000 instances, 17 features\n",
      "Size of uploaded chunk: 1000 instances, 17 features\n",
      "Size of uploaded chunk: 1000 instances, 17 features\n",
      "Size of uploaded chunk: 1000 instances, 17 features\n",
      "Size of uploaded chunk: 1000 instances, 17 features\n",
      "Size of uploaded chunk: 1000 instances, 17 features\n",
      "Size of uploaded chunk: 1000 instances, 17 features\n",
      "Size of uploaded chunk: 1000 instances, 17 features\n",
      "Size of uploaded chunk: 1000 instances, 17 features\n",
      "Size of uploaded chunk: 1000 instances, 17 features\n",
      "Size of uploaded chunk: 1000 instances, 17 features\n",
      "Size of uploaded chunk: 1000 instances, 17 features\n",
      "Size of uploaded chunk: 1000 instances, 17 features\n",
      "Size of uploaded chunk: 1000 instances, 17 features\n",
      "Size of uploaded chunk: 1000 instances, 17 features\n",
      "Size of uploaded chunk: 379 instances, 17 features\n",
      "Sample values: \n",
      "instant            17001\n",
      "dteday        2012-12-16\n",
      "season                 4\n",
      "yr                     1\n",
      "mnth                  12\n",
      "hr                     3\n",
      "holiday                0\n",
      "weekday                0\n",
      "workingday             0\n",
      "weathersit             2\n",
      "temp                0.34\n",
      "atemp             0.3333\n",
      "hum                 0.87\n",
      "windspeed          0.194\n",
      "casual                 1\n",
      "registered            37\n",
      "cnt                   38\n",
      "Name: 17000, dtype: object\n"
     ]
    }
   ],
   "source": [
    "import pandas as pd\n",
    "CHUNK_SIZE = 1000\n",
    "with open(local_path+'/'+source,'r') as R:\n",
    "    iterator = pd.read_csv(R, chunksize=CHUNK_SIZE)\n",
    "    for n, data_chunk in enumerate(iterator):\n",
    "        print('Size of uploaded chunk: %i instances, %i features' % (data_chunk.shape))\n",
    "        pass\n",
    "    print('Sample values: \\n%s' % str(data_chunk.iloc[0]))"
   ]
  },
  {
   "cell_type": "code",
   "execution_count": 52,
   "metadata": {
    "scrolled": true
   },
   "outputs": [
    {
     "name": "stdout",
     "output_type": "stream",
     "text": [
      "Total rows: 17379\n",
      "Feature 'temp': mean=0.497, max=1.000, min=0.020, sd=0.193\n"
     ]
    }
   ],
   "source": [
    "import os, csv\n",
    "local_path = os.getcwd()\n",
    "source = 'bikesharing/hour.csv'\n",
    "SEP = ','\n",
    "running_mean = list()\n",
    "running_std = list()\n",
    "with open(local_path+'/'+source, 'r') as R:\n",
    "    iterator = csv.DictReader(R, delimiter=SEP)\n",
    "    x = 0.0\n",
    "    x_squared = 0.0\n",
    "    for n, row in enumerate(iterator):\n",
    "        temp = float(row['temp'])\n",
    "        if n == 0:\n",
    "            max_x, min_x = temp, temp\n",
    "        else:\n",
    "            max_x,min_x = max(temp, max_x), min(temp, min_x)\n",
    "        x += temp\n",
    "        x_squared += temp**2\n",
    "        running_mean.append(x/(n+1))\n",
    "        running_std.append(((x_squared - (x**2)/(n+1))/(n+1))**0.5)\n",
    "        pass\n",
    "    print('Total rows: %i' % (n+1))\n",
    "    print('Feature \\'temp\\': mean=%0.3f, max=%0.3f, min=%0.3f, sd=%0.3f' \\\n",
    "         % (running_mean[-1], max_x, min_x, running_std[-1]))\n",
    "    "
   ]
  },
  {
   "cell_type": "code",
   "execution_count": 57,
   "metadata": {},
   "outputs": [
    {
     "data": {
      "image/png": "[encoded data removed]",
      "text/plain": [
       "<matplotlib.figure.Figure at 0x10b2dd2e8>"
      ]
     },
     "metadata": {},
     "output_type": "display_data"
    }
   ],
   "source": [
    "import matplotlib.pyplot as plt\n",
    "%matplotlib inline\n",
    "plt.plot(running_mean, 'r-', label='mean')\n",
    "plt.plot(running_std, 'b-', label='std')\n",
    "plt.ylim(0.0,0.6)\n",
    "plt.xlabel('Number of training exampels')\n",
    "plt.ylabel('Value')\n",
    "plt.legend(loc='lower right', numpoints=1)\n",
    "plt.show()\n"
   ]
  },
  {
   "cell_type": "code",
   "execution_count": null,
   "metadata": {},
   "outputs": [],
   "source": []
  }
 ],
 "metadata": {
  "kernelspec": {
   "display_name": "Python 3",
   "language": "python",
   "name": "python3"
  },
  "language_info": {
   "codemirror_mode": {
    "name": "ipython",
    "version": 3
   },
   "file_extension": ".py",
   "mimetype": "text/x-python",
   "name": "python",
   "nbconvert_exporter": "python",
   "pygments_lexer": "ipython3",
   "version": "3.6.3"
  }
 },
 "nbformat": 4,
 "nbformat_minor": 2
}
