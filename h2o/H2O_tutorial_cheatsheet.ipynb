{
 "cells": [
  {
   "cell_type": "markdown",
   "metadata": {},
   "source": [
    "# Algorithms (Supervised)\n",
    "## Deep Learning (Neural Networks)\n",
    "http://docs.h2o.ai/h2o/latest-stable/h2o-docs/data-science/deep-learning.html#deep-learning-neural-networks\n",
    "#### Demos\n",
    "* [tutorial/public/h2o-tutorials/training/h2o_algos/src/py/neural_networks.ipynb](../../public/h2o-tutorials/training/h2o_algos/src/py/neural_networks.ipynb)\n",
    "* [tutorial/public/h2o/code/autoencoder.tfidf.py](../../public/h2o/code/autoencoder.tfidf.py)\n",
    "* [tutorial/public/h2o/code/iris_deeplearning.py](../../public/h2o/code/iris_deeplearning.py)\n",
    "* [tutorial/public/h2o-tutorials/tutorials/deeplearning/deeplearning.ipynb](../../public/h2o-tutorials/tutorials/deeplearning/deeplearning.ipynb)"
   ]
  },
  {
   "cell_type": "markdown",
   "metadata": {},
   "source": [
    "## Distributed Random Forest (DRF)\n",
    "http://docs.h2o.ai/h2o/latest-stable/h2o-docs/data-science/drf.html#distributed-random-forest-drf\n",
    "#### Demos\n"
   ]
  },
  {
   "cell_type": "markdown",
   "metadata": {},
   "source": [
    "## Generalized Linear Model (GLM)\n",
    "http://docs.h2o.ai/h2o/latest-stable/h2o-docs/data-science/glm.html#generalized-linear-model-glm\n",
    "#### Demos"
   ]
  },
  {
   "cell_type": "markdown",
   "metadata": {},
   "source": [
    "## Gradient Boosting Machine (GBM)\n",
    "http://docs.h2o.ai/h2o/latest-stable/h2o-docs/data-science/glm.html#generalized-linear-model-glm\n",
    "#### Demos\n",
    "* [/tutorial/public/h2o-tutorials/training/gbm_deep_dive/python/gbmTuning.ipynb](../../public/h2o-tutorials/training/gbm_deep_dive/python/gbmTuning.ipynb)"
   ]
  },
  {
   "cell_type": "markdown",
   "metadata": {},
   "source": [
    "## Naive Bayes Classifier\n",
    "http://docs.h2o.ai/h2o/latest-stable/h2o-docs/data-science/naive-bayes.html#naive-bayes-classifier"
   ]
  },
  {
   "cell_type": "markdown",
   "metadata": {},
   "source": [
    "## Stacked Ensembles\n",
    "http://docs.h2o.ai/h2o/latest-stable/h2o-docs/data-science/stacked-ensembles.html#stacked-ensembles"
   ]
  },
  {
   "cell_type": "markdown",
   "metadata": {},
   "source": [
    "## XGBoost\n",
    "http://docs.h2o.ai/h2o/latest-stable/h2o-docs/data-science/stacked-ensembles.html#stacked-ensembles"
   ]
  },
  {
   "cell_type": "markdown",
   "metadata": {},
   "source": [
    "# Algorithms (Unsupervised)\n",
    "## Aggregator\n",
    "http://docs.h2o.ai/h2o/latest-stable/h2o-docs/data-science/aggregator.html#aggregagtor"
   ]
  },
  {
   "cell_type": "markdown",
   "metadata": {},
   "source": [
    "## Generalized Low Rank Models (GLRM)\n",
    "http://docs.h2o.ai/h2o/latest-stable/h2o-docs/data-science/glrm.html#generalized-low-rank-models-glrm"
   ]
  },
  {
   "cell_type": "markdown",
   "metadata": {},
   "source": [
    "## K-Means Clustering\n",
    "http://docs.h2o.ai/h2o/latest-stable/h2o-docs/data-science/k-means.html "
   ]
  },
  {
   "cell_type": "markdown",
   "metadata": {},
   "source": [
    "## Principal Component Analysis (PCA)\n",
    "http://docs.h2o.ai/h2o/latest-stable/h2o-docs/data-science/k-means.html"
   ]
  },
  {
   "cell_type": "markdown",
   "metadata": {},
   "source": [
    "# Automatic Machine Learning (AutoML)\n",
    "## Cross Validation\n",
    "http://docs.h2o.ai/h2o/latest-stable/h2o-docs/cross-validation.html#cross-validation"
   ]
  },
  {
   "cell_type": "markdown",
   "metadata": {},
   "source": [
    "## Grid (Hyperparameter) Search"
   ]
  },
  {
   "cell_type": "markdown",
   "metadata": {},
   "source": [
    "## AutoML\n",
    " http://docs.h2o.ai/h2o/latest-stable/h2o-docs/automl.html#automl-automatic-machine-learning\n",
    " \n",
    "#### Demos\n",
    "* [tutorial/public/h2o-tutorials/h2o-world-2017/automl/Python/automl_binary_classification_product_backorders.ipynb](../../public/h2o-tutorials/h2o-world-2017/automl/Python/automl_binary_classification_product_backorders.ipynb) \n",
    "* [tutorial/public/h2o-tutorials/h2o-world-2017/automl/Python/automl_regression_powerplant_output.ipynb\n",
    "](../../public/h2o-tutorials/h2o-world-2017/automl/Python/automl_regression_powerplant_output.ipynb)\n",
    "* [tutorial/public/h2o-tutorials/training/h2o_algos/src/py/automl.ipynb](../../public/h2o-tutorials/training/h2o_algos/src/py/automl.ipynb)\n",
    "\n",
    "#### Articles\n",
    "* [Using H2O AutoML for Kaggle Competitions](https://www.slideshare.net/0xdata/using-h2o-automl-for-kaggle-competitions)\n",
    "* [H2O AutoML Examples in Python and Scala](https://dzone.com/articles/h2o-automl-examples-in-python-and-scala)\n",
    "* [A Trial Run With H2O AutoML in R: Automated Machine Learning Functionality](https://dzone.com/articles/a-trial-run-with-h2o-automl-automatic-machine-lear)\n",
    "* [Automatic machine learning with H20](https://rpubs.com/mr148/316131)"
   ]
  },
  {
   "cell_type": "code",
   "execution_count": null,
   "metadata": {},
   "outputs": [],
   "source": []
  }
 ],
 "metadata": {
  "kernelspec": {
   "display_name": "Python 3",
   "language": "python",
   "name": "python3"
  },
  "language_info": {
   "codemirror_mode": {
    "name": "ipython",
    "version": 3
   },
   "file_extension": ".py",
   "mimetype": "text/x-python",
   "name": "python",
   "nbconvert_exporter": "python",
   "pygments_lexer": "ipython3",
   "version": "3.6.3"
  }
 },
 "nbformat": 4,
 "nbformat_minor": 2
}
