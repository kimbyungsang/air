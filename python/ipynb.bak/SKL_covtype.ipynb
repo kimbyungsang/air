{
 "cells": [
  {
   "cell_type": "code",
   "execution_count": 1,
   "metadata": {},
   "outputs": [
    {
     "name": "stdout",
     "output_type": "stream",
     "text": [
      "/Users/byungsagkim/opt/python\n"
     ]
    }
   ],
   "source": [
    "import os, csv\n",
    "print (os.getcwd())"
   ]
  },
  {
   "cell_type": "code",
   "execution_count": 18,
   "metadata": {},
   "outputs": [
    {
     "name": "stdout",
     "output_type": "stream",
     "text": [
      "{'Spruce/Fir': 211840, 'Lodgepole Pine': 283301, 'Ponderosa Pine': 35754, 'Cottonwood/Willow': 2747, 'Aspen': 9493, 'Douglas-fir': 17367, 'Krummholz': 20510, 'Other': 0}\n",
      "Total rows: 581012\n",
      "Frequency of classes:\n",
      "Lodgepole Pine    : 283301 48.8%\n",
      "Spruce/Fir        : 211840 36.5%\n",
      "Ponderosa Pine    :  35754 06.2%\n",
      "Krummholz         :  20510 03.5%\n",
      "Douglas-fir       :  17367 03.0%\n",
      "Aspen             :   9493 01.6%\n",
      "Cottonwood/Willow :   2747 00.5%\n",
      "Other             :      0 00.0%\n"
     ]
    }
   ],
   "source": [
    "local_path = os.getcwd()\n",
    "source = 'datasets/covtype.data'\n",
    "SEP = ','\n",
    "forest_type = {1:\"Spruce/Fir\", 2:\"Lodgepole Pine\", 3:\"Ponderosa Pine\", 4:\"Cottonwood/Willow\", \\\n",
    "              5:\"Aspen\", 6:\"Douglas-fir\", 7:\"Krummholz\"}\n",
    "forest_type_count = {value:0 for value in forest_type.values()}\n",
    "forest_type_count['Other'] = 0\n",
    "lodgepole_pine = 0\n",
    "spruce =0\n",
    "proportions = list()\n",
    "with open(local_path+'/'+source) as R:\n",
    "    iterator = csv.reader(R, delimiter=SEP)\n",
    "    for n, row in enumerate(iterator):\n",
    "        response = int(row[-1]) # The response is the last value\n",
    "        try:\n",
    "            forest_type_count[forest_type[response]] += 1\n",
    "            if response == 1:\n",
    "                spruce += 1\n",
    "            elif response == 2:\n",
    "                lodgepole_pine += 1\n",
    "            if n % 10000 == 0:\n",
    "                proportions.append([spruce/float(n+1), \\\n",
    "                                   lodgepole_pine/float(n+1)])\n",
    "        except:\n",
    "            forest_type_count['Other'] += 1\n",
    "    \n",
    "    print(forest_type_count)\n",
    "    print('Total rows: %i' % (n+1))\n",
    "    print('Frequency of classes:')\n",
    "    for ftype, freq in sorted([(t,v) for t,v \\\n",
    "                              in forest_type_count.items()], \\\n",
    "                              key = lambda x: x[1], reverse=True):\n",
    "        print(\"%-18s: %6i %04.1f%%\" % (ftype, freq, freq*100/float(n+1)))\n",
    "    \n",
    "                "
   ]
  },
  {
   "cell_type": "code",
   "execution_count": 43,
   "metadata": {},
   "outputs": [
    {
     "name": "stdout",
     "output_type": "stream",
     "text": [
      "dict_items([('Spruce/Fir', 211840), ('Lodgepole Pine', 283301), ('Ponderosa Pine', 35754), ('Cottonwood/Willow', 2747), ('Aspen', 9493), ('Douglas-fir', 17367), ('Krummholz', 20510), ('Other', 0)])\n",
      "dict_keys(['Spruce/Fir', 'Lodgepole Pine', 'Ponderosa Pine', 'Cottonwood/Willow', 'Aspen', 'Douglas-fir', 'Krummholz', 'Other'])\n"
     ]
    },
    {
     "ename": "NameError",
     "evalue": "name 'v' is not defined",
     "output_type": "error",
     "traceback": [
      "\u001b[0;31m---------------------------------------------------------------------------\u001b[0m",
      "\u001b[0;31mNameError\u001b[0m                                 Traceback (most recent call last)",
      "\u001b[0;32m<ipython-input-43-03dfe79ad8f5>\u001b[0m in \u001b[0;36m<module>\u001b[0;34m()\u001b[0m\n\u001b[1;32m      1\u001b[0m \u001b[0mprint\u001b[0m\u001b[0;34m(\u001b[0m\u001b[0mforest_type_count\u001b[0m\u001b[0;34m.\u001b[0m\u001b[0mitems\u001b[0m\u001b[0;34m(\u001b[0m\u001b[0;34m)\u001b[0m\u001b[0;34m)\u001b[0m\u001b[0;34m\u001b[0m\u001b[0m\n\u001b[1;32m      2\u001b[0m \u001b[0mprint\u001b[0m\u001b[0;34m(\u001b[0m\u001b[0mforest_type_count\u001b[0m\u001b[0;34m.\u001b[0m\u001b[0mkeys\u001b[0m\u001b[0;34m(\u001b[0m\u001b[0;34m)\u001b[0m\u001b[0;34m)\u001b[0m\u001b[0;34m\u001b[0m\u001b[0m\n\u001b[0;32m----> 3\u001b[0;31m \u001b[0;32mfor\u001b[0m \u001b[0mftype\u001b[0m\u001b[0;34m,\u001b[0m \u001b[0mfreq\u001b[0m \u001b[0;32min\u001b[0m \u001b[0msorted\u001b[0m\u001b[0;34m(\u001b[0m\u001b[0;34m[\u001b[0m\u001b[0;34m(\u001b[0m\u001b[0mt\u001b[0m\u001b[0;34m,\u001b[0m\u001b[0mv\u001b[0m\u001b[0;34m)\u001b[0m \u001b[0;32mfor\u001b[0m \u001b[0mt\u001b[0m\u001b[0;34m,\u001b[0m\u001b[0mv\u001b[0m                               \u001b[0;32min\u001b[0m \u001b[0mforest_type_count\u001b[0m\u001b[0;34m.\u001b[0m\u001b[0mitems\u001b[0m\u001b[0;34m(\u001b[0m\u001b[0;34m)\u001b[0m\u001b[0;34m]\u001b[0m\u001b[0;34m,\u001b[0m                               \u001b[0mkey\u001b[0m \u001b[0;34m=\u001b[0m \u001b[0mv\u001b[0m\u001b[0;34m,\u001b[0m \u001b[0mreverse\u001b[0m\u001b[0;34m=\u001b[0m\u001b[0;32mTrue\u001b[0m\u001b[0;34m)\u001b[0m\u001b[0;34m:\u001b[0m\u001b[0;34m\u001b[0m\u001b[0m\n\u001b[0m\u001b[1;32m      4\u001b[0m     \u001b[0mprint\u001b[0m\u001b[0;34m(\u001b[0m\u001b[0;34m\"%-18s: %6i %04.1f%%\"\u001b[0m \u001b[0;34m%\u001b[0m \u001b[0;34m(\u001b[0m\u001b[0mftype\u001b[0m\u001b[0;34m,\u001b[0m \u001b[0mfreq\u001b[0m\u001b[0;34m,\u001b[0m \u001b[0mfreq\u001b[0m\u001b[0;34m*\u001b[0m\u001b[0;36m100\u001b[0m\u001b[0;34m/\u001b[0m\u001b[0mfloat\u001b[0m\u001b[0;34m(\u001b[0m\u001b[0mn\u001b[0m\u001b[0;34m+\u001b[0m\u001b[0;36m1\u001b[0m\u001b[0;34m)\u001b[0m\u001b[0;34m)\u001b[0m\u001b[0;34m)\u001b[0m\u001b[0;34m\u001b[0m\u001b[0m\n\u001b[1;32m      5\u001b[0m \u001b[0;34m\u001b[0m\u001b[0m\n",
      "\u001b[0;31mNameError\u001b[0m: name 'v' is not defined"
     ]
    }
   ],
   "source": [
    "print(forest_type_count.items())\n",
    "print(forest_type_count.keys())\n",
    "for ftype, freq in sorted([(t,v) for t,v \\\n",
    "                              in forest_type_count.items()], \\\n",
    "                              key = lambda x: x[0], reverse=True):\n",
    "    print(\"%-18s: %6i %04.1f%%\" % (ftype, freq, freq*100/float(n+1)))\n",
    "        \n",
    "print()\n",
    "for ftype, freq in [(t,v) for t,v in forest_type_count.items()]:\n",
    "    print(\"%-18s: %6i %04.1f%%\" % (ftype, freq, freq*100/float(n+1)))\n",
    "        \n",
    "print()\n",
    "for ftype, freq in sorted([(t,v) for t,v in forest_type_count.items()]):\n",
    "    print(\"%-18s: %6i %04.1f%%\" % (ftype, freq, freq*100/float(n+1)))\n",
    "\n"
   ]
  },
  {
   "cell_type": "code",
   "execution_count": 17,
   "metadata": {},
   "outputs": [
    {
     "data": {
      "image/png": "[encoded data removed]",
      "text/plain": [
       "<matplotlib.figure.Figure at 0x103cc8208>"
      ]
     },
     "metadata": {},
     "output_type": "display_data"
    }
   ],
   "source": [
    "import matplotlib.pyplot as plt\n",
    "import numpy as np\n",
    "%matplotlib inline\n",
    "proportions = np.array(proportions)\n",
    "plt.plot(proportions[:,0], 'r-', label='Spruce/Fir')\n",
    "plt.plot(proportions[:,1], 'b-', label='Lodgepole Pine')\n",
    "plt.ylim(0.0,0.8)\n",
    "plt.xlabel('Number of training exampels (unit=10000)')\n",
    "plt.ylabel('%')\n",
    "plt.legend(loc='lower right', numpoints=1)\n",
    "plt.show()"
   ]
  },
  {
   "cell_type": "markdown",
   "metadata": {},
   "source": [
    "## lambda function ##"
   ]
  },
  {
   "cell_type": "code",
   "execution_count": 19,
   "metadata": {},
   "outputs": [],
   "source": [
    "def short_function(x):\n",
    "    return x*2\n",
    "equiv_anon = lambda x:x*2"
   ]
  },
  {
   "cell_type": "code",
   "execution_count": 20,
   "metadata": {},
   "outputs": [
    {
     "data": {
      "text/plain": [
       "[8, 0, 2, 10, 12]"
      ]
     },
     "execution_count": 20,
     "metadata": {},
     "output_type": "execute_result"
    }
   ],
   "source": [
    "def apply_to_list(some_list,f):\n",
    "    return [f(x) for x in some_list]\n",
    "\n",
    "ints = [4,0,1,5,6]\n",
    "apply_to_list(ints, lambda x:x*2)"
   ]
  },
  {
   "cell_type": "code",
   "execution_count": 41,
   "metadata": {},
   "outputs": [
    {
     "data": {
      "text/plain": [
       "['aaaa', 'foo', 'abab', 'bar', 'card']"
      ]
     },
     "execution_count": 41,
     "metadata": {},
     "output_type": "execute_result"
    }
   ],
   "source": [
    "strings = ['foo', 'card', 'bar', 'aaaa', 'abab']\n",
    "strings.sort(key = lambda x: len(set(list(x))))\n",
    "strings"
   ]
  },
  {
   "cell_type": "code",
   "execution_count": null,
   "metadata": {},
   "outputs": [],
   "source": []
  }
 ],
 "metadata": {
  "kernelspec": {
   "display_name": "Python 3",
   "language": "python",
   "name": "python3"
  },
  "language_info": {
   "codemirror_mode": {
    "name": "ipython",
    "version": 3
   },
   "file_extension": ".py",
   "mimetype": "text/x-python",
   "name": "python",
   "nbconvert_exporter": "python",
   "pygments_lexer": "ipython3",
   "version": "3.6.3"
  }
 },
 "nbformat": 4,
 "nbformat_minor": 2
}
