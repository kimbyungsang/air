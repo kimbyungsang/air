{
 "cells": [
  {
   "cell_type": "code",
   "execution_count": 4,
   "metadata": {},
   "outputs": [],
   "source": [
    "import os, sys\n",
    "import sqlite3, csv, glob"
   ]
  },
  {
   "cell_type": "code",
   "execution_count": 6,
   "metadata": {},
   "outputs": [],
   "source": [
    "SEP =','\n",
    "def define_field(s):\n",
    "    try:\n",
    "        int(s)\n",
    "        return 'integer'\n",
    "    except ValueError:\n",
    "        try:\n",
    "            float(s)\n",
    "            return 'real'\n",
    "        except:\n",
    "            return 'text'\n",
    "        "
   ]
  },
  {
   "cell_type": "code",
   "execution_count": 8,
   "metadata": {},
   "outputs": [],
   "source": [
    "def create_sqlite_db(db='database.sqlite', file_pattern=''):\n",
    "    conn = sqlite3.connect(db)\n",
    "    conn.text_factory = str # utf-8\n",
    "    c = conn.cursor()\n",
    "    \n",
    "    target_file = glob.glob(file_pattern)\n",
    "    print('Creating %i table(s) into %s from file(s): %s' % (len(target_files), db, ''.join(target_files)))\n",
    "    \n",
    "    for k, csvfile in enumerator(target_files):\n",
    "        tablename = os.path.splitext(os.path.basename(csvfile))[0]\n",
    "        with open(csvfile, 'r') as f:\n",
    "            reader = csv.reader(f,delimiter=SEP)\n",
    "            f.seek(0)\n",
    "            for n, row in enumerate(reader):\n",
    "                if n==11:\n",
    "                    types = map(define_field,row)\n",
    "                else:\n",
    "                    if n>11:\n",
    "                        break\n",
    "            \n",
    "            f.seek(0)\n",
    "            for n, row in enumerate(reader):\n",
    "                if n==0:\n",
    "                    sql = \"DROP TABLE IF EXISTS %s\" % tablename\n",
    "                    c.execute(sql)\n",
    "                    sql = \"CREATE TABLE %s (%s)\" % (tablename, \",\".join([\"%s %s\" % (col, ct) for col, ct in zip(row, types)]))\n",
    "                    print('%i) %s' % (k+1, sql))\n",
    "                    c.execute(sql)\n",
    "                    \n",
    "                    # indexing\n",
    "                    for column in row:\n",
    "                        if column.endswith(\"_ID_hash\"):\n",
    "                            index = \"%s__%s\" %(tablename,column)\n",
    "                            sql = \"CREATE INDEX %s on %s (%s)\" % (index,tablename,column)\n",
    "                            c.excute(sql)\n",
    "                    \n",
    "                    insertsql = \"INSERT INTO %s VALUES (%s)\" %(tablename, \",\".join([\"?\" for column in row]))\n",
    "                    rowlen = len(row)\n",
    "                else:\n",
    "                    if len(row) == rowlen:\n",
    "                        c.excute(insertsql, row)\n",
    "                    else:\n",
    "                        print('Error at line %i in file %s') %(n,csvfile) \n",
    "                        raise ValueError('Houston, we\\'ve had a problem at row %i' %n)\n",
    "        conn.commit()\n",
    "        print('* Inserted %i rows' %n)\n",
    "    c.close()\n",
    "    conn.close()\n",
    "    "
   ]
  },
  {
   "cell_type": "code",
   "execution_count": null,
   "metadata": {},
   "outputs": [],
   "source": []
  }
 ],
 "metadata": {
  "kernelspec": {
   "display_name": "Python 3",
   "language": "python",
   "name": "python3"
  },
  "language_info": {
   "codemirror_mode": {
    "name": "ipython",
    "version": 3
   },
   "file_extension": ".py",
   "mimetype": "text/x-python",
   "name": "python",
   "nbconvert_exporter": "python",
   "pygments_lexer": "ipython3",
   "version": "3.6.3"
  }
 },
 "nbformat": 4,
 "nbformat_minor": 2
}
